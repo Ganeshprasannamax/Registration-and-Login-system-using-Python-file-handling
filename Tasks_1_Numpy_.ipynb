{
  "cells": [
    {
      "cell_type": "markdown",
      "metadata": {
        "id": "view-in-github",
        "colab_type": "text"
      },
      "source": [
        "<a href=\"https://colab.research.google.com/github/Ganeshprasannamax/Registration-and-Login-system-using-Python-file-handling/blob/main/Tasks_1_Numpy_.ipynb\" target=\"_parent\"><img src=\"https://colab.research.google.com/assets/colab-badge.svg\" alt=\"Open In Colab\"/></a>"
      ]
    },
    {
      "cell_type": "markdown",
      "metadata": {
        "id": "8PKeidUMByuJ"
      },
      "source": [
        "# Numpy\n",
        "\n"
      ]
    },
    {
      "cell_type": "markdown",
      "metadata": {
        "id": "KYNK5nBIByuk"
      },
      "source": [
        "#### 1. Import the numpy package under the name `np` (★☆☆) \n",
        "(**hint**: import … as …)"
      ]
    },
    {
      "cell_type": "code",
      "execution_count": 1,
      "metadata": {
        "collapsed": true,
        "id": "Qv--bar8Byuv"
      },
      "outputs": [],
      "source": [
        "import numpy as np"
      ]
    },
    {
      "cell_type": "markdown",
      "metadata": {
        "id": "lFysgENCByu0"
      },
      "source": [
        "#### 2. Print the numpy version and the configuration (★☆☆) \n",
        "(**hint**: np.\\_\\_version\\_\\_, np.show\\_config)"
      ]
    },
    {
      "cell_type": "code",
      "execution_count": 2,
      "metadata": {
        "id": "-3cb7ChcByu2",
        "colab": {
          "base_uri": "https://localhost:8080/"
        },
        "outputId": "1a9d89bb-7958-4474-ae8f-38be3e83ce99"
      },
      "outputs": [
        {
          "output_type": "stream",
          "name": "stdout",
          "text": [
            "blas_mkl_info:\n",
            "  NOT AVAILABLE\n",
            "blis_info:\n",
            "  NOT AVAILABLE\n",
            "openblas_info:\n",
            "    libraries = ['openblas', 'openblas']\n",
            "    library_dirs = ['/usr/local/lib']\n",
            "    language = c\n",
            "    define_macros = [('HAVE_CBLAS', None)]\n",
            "    runtime_library_dirs = ['/usr/local/lib']\n",
            "blas_opt_info:\n",
            "    libraries = ['openblas', 'openblas']\n",
            "    library_dirs = ['/usr/local/lib']\n",
            "    language = c\n",
            "    define_macros = [('HAVE_CBLAS', None)]\n",
            "    runtime_library_dirs = ['/usr/local/lib']\n",
            "lapack_mkl_info:\n",
            "  NOT AVAILABLE\n",
            "openblas_lapack_info:\n",
            "    libraries = ['openblas', 'openblas']\n",
            "    library_dirs = ['/usr/local/lib']\n",
            "    language = c\n",
            "    define_macros = [('HAVE_CBLAS', None)]\n",
            "    runtime_library_dirs = ['/usr/local/lib']\n",
            "lapack_opt_info:\n",
            "    libraries = ['openblas', 'openblas']\n",
            "    library_dirs = ['/usr/local/lib']\n",
            "    language = c\n",
            "    define_macros = [('HAVE_CBLAS', None)]\n",
            "    runtime_library_dirs = ['/usr/local/lib']\n",
            "Supported SIMD extensions in this NumPy install:\n",
            "    baseline = SSE,SSE2,SSE3\n",
            "    found = SSSE3,SSE41,POPCNT,SSE42,AVX,F16C,FMA3,AVX2\n",
            "    not found = AVX512F,AVX512CD,AVX512_KNL,AVX512_KNM,AVX512_SKX,AVX512_CLX,AVX512_CNL,AVX512_ICL\n"
          ]
        }
      ],
      "source": [
        "np.show_config()"
      ]
    },
    {
      "cell_type": "markdown",
      "metadata": {
        "id": "Aj0M-RGkByu4"
      },
      "source": [
        "#### 3. Create a null vector of size 10 (★☆☆) \n",
        "(**hint**: np.zeros)"
      ]
    },
    {
      "cell_type": "code",
      "execution_count": 3,
      "metadata": {
        "id": "FkZOS4D9Byu6",
        "colab": {
          "base_uri": "https://localhost:8080/"
        },
        "outputId": "eac5e4ad-0fb9-462d-818d-347cca5df9c9"
      },
      "outputs": [
        {
          "output_type": "stream",
          "name": "stdout",
          "text": [
            "[0. 0. 0. 0. 0. 0. 0. 0. 0. 0.]\n"
          ]
        }
      ],
      "source": [
        "z= np.zeros(10)\n",
        "print(z)"
      ]
    },
    {
      "cell_type": "markdown",
      "metadata": {
        "id": "7VIY4wZFByu8"
      },
      "source": [
        "#### 4.  How to find the memory size of any array (★☆☆) \n",
        "(**hint**: size, itemsize)"
      ]
    },
    {
      "cell_type": "code",
      "execution_count": 4,
      "metadata": {
        "id": "aa7no9-yByu-",
        "colab": {
          "base_uri": "https://localhost:8080/"
        },
        "outputId": "c1e99646-9dfc-44e7-f6c4-45199f4c3f6e"
      },
      "outputs": [
        {
          "output_type": "stream",
          "name": "stdout",
          "text": [
            "800 bytes\n"
          ]
        }
      ],
      "source": [
        "z= np.zeros((10,10))\n",
        "print(\"%d bytes\" % (z.size * z.itemsize))"
      ]
    },
    {
      "cell_type": "markdown",
      "metadata": {
        "id": "AzonHX1UByvA"
      },
      "source": [
        "#### 5.  How to get the documentation of the numpy add function from the command line? (★☆☆) \n",
        "(**hint**: np.info)"
      ]
    },
    {
      "cell_type": "code",
      "execution_count": 5,
      "metadata": {
        "collapsed": true,
        "id": "uzZFZ3dKByvC",
        "colab": {
          "base_uri": "https://localhost:8080/",
          "height": 35
        },
        "outputId": "2cf04c41-830b-4f57-9a63-a19b131cb0e2"
      },
      "outputs": [
        {
          "output_type": "execute_result",
          "data": {
            "text/plain": [
              "'import numpy.info(numpy.add)'"
            ],
            "application/vnd.google.colaboratory.intrinsic+json": {
              "type": "string"
            }
          },
          "metadata": {},
          "execution_count": 5
        }
      ],
      "source": [
        "\"import numpy.info(numpy.add)\""
      ]
    },
    {
      "cell_type": "markdown",
      "metadata": {
        "id": "2TR48lA5ByvC"
      },
      "source": [
        "#### 6.  Create a null vector of size 10 but the fifth value which is 1 (★☆☆) \n",
        "(**hint**: array\\[4\\])"
      ]
    },
    {
      "cell_type": "code",
      "execution_count": 6,
      "metadata": {
        "id": "GG3e-ePYByvE",
        "colab": {
          "base_uri": "https://localhost:8080/"
        },
        "outputId": "f498ce73-0cd6-48c9-dfcc-58741a252432"
      },
      "outputs": [
        {
          "output_type": "stream",
          "name": "stdout",
          "text": [
            "[0. 0. 0. 0. 1. 0. 0. 0. 0. 0.]\n"
          ]
        }
      ],
      "source": [
        "a=np.zeros(10)\n",
        "a[4]=1\n",
        "print(a)"
      ]
    },
    {
      "cell_type": "markdown",
      "metadata": {
        "id": "8zA9WcUsByvE"
      },
      "source": [
        "#### 7.  Create a vector with values ranging from 10 to 49 (★☆☆) \n",
        "(**hint**: np.arange)"
      ]
    },
    {
      "cell_type": "code",
      "execution_count": 7,
      "metadata": {
        "id": "-9Y4YQRaByvG",
        "colab": {
          "base_uri": "https://localhost:8080/"
        },
        "outputId": "77838ed4-2a8a-488e-a1c2-c1d8d03dcce0"
      },
      "outputs": [
        {
          "output_type": "stream",
          "name": "stdout",
          "text": [
            "[10 11 12 13 14 15 16 17 18 19 20 21 22 23 24 25 26 27 28 29 30 31 32 33\n",
            " 34 35 36 37 38 39 40 41 42 43 44 45 46 47 48 49]\n"
          ]
        }
      ],
      "source": [
        "a=np.arange(10,50)\n",
        "print(a)"
      ]
    },
    {
      "cell_type": "markdown",
      "metadata": {
        "id": "YbgHK_0dByvG"
      },
      "source": [
        "#### 8.  Reverse a vector (first element becomes last) (★☆☆) \n",
        "(**hint**: array\\[::-1\\])"
      ]
    },
    {
      "cell_type": "code",
      "execution_count": 8,
      "metadata": {
        "id": "ZlK7NKD2ByvH",
        "colab": {
          "base_uri": "https://localhost:8080/"
        },
        "outputId": "41a65be1-a69b-475e-f3d7-576a003c3da5"
      },
      "outputs": [
        {
          "output_type": "stream",
          "name": "stdout",
          "text": [
            "[19 18 17 16 15 14 13 12 11 10  9  8  7  6  5  4  3  2  1  0]\n"
          ]
        }
      ],
      "source": [
        "a=np.arange(20)\n",
        "a=a[::-1]\n",
        "print(a)"
      ]
    },
    {
      "cell_type": "markdown",
      "metadata": {
        "id": "KdSDCUmNByvH"
      },
      "source": [
        "#### 9.  Create a 3x3 matrix with values ranging from 0 to 8 (★☆☆) \n",
        "(**hint**: reshape)"
      ]
    },
    {
      "cell_type": "code",
      "execution_count": 9,
      "metadata": {
        "id": "CDolzG7EByvI",
        "colab": {
          "base_uri": "https://localhost:8080/"
        },
        "outputId": "247ba2fb-fc69-49f0-eb2e-43e9307bf32d"
      },
      "outputs": [
        {
          "output_type": "stream",
          "name": "stdout",
          "text": [
            "[[0 1 2]\n",
            " [3 4 5]\n",
            " [6 7 8]]\n"
          ]
        }
      ],
      "source": [
        "a=np.arange(9).reshape(3,3)\n",
        "print(a)"
      ]
    },
    {
      "cell_type": "markdown",
      "metadata": {
        "id": "twR3mZMuByvJ"
      },
      "source": [
        "#### 10. Find indices of non-zero elements from \\[1,2,0,0,4,0\\] (★☆☆) \n",
        "(**hint**: np.nonzero)"
      ]
    },
    {
      "cell_type": "code",
      "execution_count": 10,
      "metadata": {
        "id": "JCKBvovpByvJ",
        "colab": {
          "base_uri": "https://localhost:8080/"
        },
        "outputId": "51fbf226-537a-4665-976a-67cf54564d21"
      },
      "outputs": [
        {
          "output_type": "stream",
          "name": "stdout",
          "text": [
            "(array([0, 1, 4]),)\n"
          ]
        }
      ],
      "source": [
        "nz=np.nonzero([1,2,0,0,4,0])\n",
        "print(nz)"
      ]
    },
    {
      "cell_type": "markdown",
      "metadata": {
        "id": "iMlFx3uAByvK"
      },
      "source": [
        "#### 11. Create a 3x3 identity matrix (★☆☆) \n",
        "(**hint**: np.eye)"
      ]
    },
    {
      "cell_type": "code",
      "execution_count": 11,
      "metadata": {
        "id": "l5f0LPBJByvL",
        "colab": {
          "base_uri": "https://localhost:8080/"
        },
        "outputId": "1849b5bc-491c-4bbc-ca30-6dd19763bc13"
      },
      "outputs": [
        {
          "output_type": "stream",
          "name": "stdout",
          "text": [
            "[[1. 0. 0.]\n",
            " [0. 1. 0.]\n",
            " [0. 0. 1.]]\n"
          ]
        }
      ],
      "source": [
        "a=np.eye(3)\n",
        "print(a)"
      ]
    },
    {
      "cell_type": "markdown",
      "metadata": {
        "id": "YmkOwWNWByvL"
      },
      "source": [
        "#### 12. Create a 3x3x3 array with random values (★☆☆) \n",
        "(**hint**: np.random.random)"
      ]
    },
    {
      "cell_type": "code",
      "execution_count": 12,
      "metadata": {
        "collapsed": true,
        "id": "AgIVOpT0ByvL",
        "colab": {
          "base_uri": "https://localhost:8080/"
        },
        "outputId": "9ffbbb3b-f829-4151-9eee-969491302876"
      },
      "outputs": [
        {
          "output_type": "stream",
          "name": "stdout",
          "text": [
            "[[[0.91849421 0.10371916 0.11153211]\n",
            "  [0.679825   0.50607857 0.91607729]\n",
            "  [0.55971405 0.12058723 0.62053746]]\n",
            "\n",
            " [[0.31841132 0.46413025 0.23152234]\n",
            "  [0.23456912 0.27159059 0.39267431]\n",
            "  [0.41475025 0.24096231 0.07697509]]\n",
            "\n",
            " [[0.02886797 0.04673747 0.83275758]\n",
            "  [0.49848838 0.56886824 0.8533783 ]\n",
            "  [0.32074384 0.92364524 0.03479558]]]\n"
          ]
        }
      ],
      "source": [
        "a=np.random.random((3,3,3))\n",
        "print(a)"
      ]
    },
    {
      "cell_type": "markdown",
      "metadata": {
        "id": "0fhkD4_XByvM"
      },
      "source": [
        "#### 13. Create a 10x10 array with random values and find the minimum and maximum values (★☆☆) \n",
        "(**hint**: min, max)"
      ]
    },
    {
      "cell_type": "code",
      "execution_count": 13,
      "metadata": {
        "id": "_o04ZD4DByvM",
        "colab": {
          "base_uri": "https://localhost:8080/"
        },
        "outputId": "91dfca18-7dd4-44d9-b56a-46b879d79aa2"
      },
      "outputs": [
        {
          "output_type": "stream",
          "name": "stdout",
          "text": [
            "0.0018847437400003608 0.9903907443460435\n"
          ]
        }
      ],
      "source": [
        "A=np.random.random((10,10))\n",
        "Amin,Amax =A.min(),A.max()\n",
        "print(Amin,Amax)"
      ]
    },
    {
      "cell_type": "markdown",
      "metadata": {
        "id": "HTnwUyKIByvM"
      },
      "source": [
        "#### 14. Create a random vector of size 30 and find the mean value (★☆☆) \n",
        "(**hint**: mean)"
      ]
    },
    {
      "cell_type": "code",
      "execution_count": 14,
      "metadata": {
        "id": "NSVl5EruByvN",
        "colab": {
          "base_uri": "https://localhost:8080/"
        },
        "outputId": "27a3cfdd-7d5c-4de0-b097-061bbd1c4b0a"
      },
      "outputs": [
        {
          "output_type": "stream",
          "name": "stdout",
          "text": [
            "0.48314997531407966\n"
          ]
        }
      ],
      "source": [
        "a=np.random.random(30)\n",
        "b=a.mean()\n",
        "print(b)"
      ]
    },
    {
      "cell_type": "markdown",
      "metadata": {
        "id": "Ukue7fErByvN"
      },
      "source": [
        "#### 15. Create a 2d array with 1 on the border and 0 inside (★☆☆) \n",
        "(**hint**: array\\[1:-1, 1:-1\\])"
      ]
    },
    {
      "cell_type": "code",
      "execution_count": 15,
      "metadata": {
        "id": "mlD275cIByvN",
        "colab": {
          "base_uri": "https://localhost:8080/"
        },
        "outputId": "bf06fe89-a886-42a4-de23-84dae81effa9"
      },
      "outputs": [
        {
          "output_type": "stream",
          "name": "stdout",
          "text": [
            "[[1. 1. 1. 1. 1. 1. 1. 1. 1. 1.]\n",
            " [1. 0. 0. 0. 0. 0. 0. 0. 0. 1.]\n",
            " [1. 0. 0. 0. 0. 0. 0. 0. 0. 1.]\n",
            " [1. 0. 0. 0. 0. 0. 0. 0. 0. 1.]\n",
            " [1. 0. 0. 0. 0. 0. 0. 0. 0. 1.]\n",
            " [1. 0. 0. 0. 0. 0. 0. 0. 0. 1.]\n",
            " [1. 0. 0. 0. 0. 0. 0. 0. 0. 1.]\n",
            " [1. 0. 0. 0. 0. 0. 0. 0. 0. 1.]\n",
            " [1. 0. 0. 0. 0. 0. 0. 0. 0. 1.]\n",
            " [1. 1. 1. 1. 1. 1. 1. 1. 1. 1.]]\n"
          ]
        }
      ],
      "source": [
        "a=np.ones((10,10))\n",
        "a[1:-1,1:-1]=0\n",
        "print(a)"
      ]
    },
    {
      "cell_type": "markdown",
      "metadata": {
        "id": "hYBbgTPVByvN"
      },
      "source": [
        "#### 16. How to add a border (filled with 0's) around an existing array? (★☆☆) \n",
        "(**hint**: np.pad)"
      ]
    },
    {
      "cell_type": "code",
      "execution_count": 16,
      "metadata": {
        "id": "vbqfDwaJByvO",
        "colab": {
          "base_uri": "https://localhost:8080/"
        },
        "outputId": "880462dc-0da7-4fc3-c76c-43501f41b6be"
      },
      "outputs": [
        {
          "output_type": "stream",
          "name": "stdout",
          "text": [
            "[[0. 0. 0. 0. 0.]\n",
            " [0. 1. 1. 1. 0.]\n",
            " [0. 1. 1. 1. 0.]\n",
            " [0. 1. 1. 1. 0.]\n",
            " [0. 0. 0. 0. 0.]]\n"
          ]
        }
      ],
      "source": [
        "a=np.ones((3,3))\n",
        "a=np.pad(a, pad_width=1,mode='constant',constant_values=0)\n",
        "print(a)"
      ]
    },
    {
      "cell_type": "markdown",
      "metadata": {
        "id": "ywqC0FQ6ByvO"
      },
      "source": [
        "#### 17. What is the result of the following expression? (★☆☆) \n",
        "(**hint**: NaN = not a number, inf = infinity)"
      ]
    },
    {
      "cell_type": "markdown",
      "metadata": {
        "id": "AKdt-FNZByvP"
      },
      "source": [
        "```python\n",
        "0 * np.nan\n",
        "np.nan == np.nan\n",
        "np.inf > np.nan\n",
        "np.nan - np.nan\n",
        "0.3 == 3 * 0.1\n",
        "```"
      ]
    },
    {
      "cell_type": "code",
      "execution_count": 16,
      "metadata": {
        "id": "_WNMReeJByvQ"
      },
      "outputs": [],
      "source": []
    },
    {
      "cell_type": "markdown",
      "metadata": {
        "id": "YVXKIo10ByvR"
      },
      "source": [
        "#### 18. Create a 5x5 matrix with values 1,2,3,4 just below the diagonal (★☆☆) \n",
        "(**hint**: np.diag)"
      ]
    },
    {
      "cell_type": "code",
      "execution_count": 17,
      "metadata": {
        "id": "6FJGyixzByvR",
        "colab": {
          "base_uri": "https://localhost:8080/"
        },
        "outputId": "c9489da0-5ad3-49ff-f978-901a18e3e001"
      },
      "outputs": [
        {
          "output_type": "stream",
          "name": "stdout",
          "text": [
            "[[0 0 0 0 0]\n",
            " [1 0 0 0 0]\n",
            " [0 2 0 0 0]\n",
            " [0 0 3 0 0]\n",
            " [0 0 0 4 0]]\n"
          ]
        }
      ],
      "source": [
        "a=np.diag(1+np.arange(4),k=-1)\n",
        "print(a)"
      ]
    },
    {
      "cell_type": "markdown",
      "metadata": {
        "id": "8XLiQ3nuByvS"
      },
      "source": [
        "#### 19. Create a 8x8 matrix and fill it with a checkerboard pattern (★☆☆) \n",
        "(**hint**: array\\[::2\\])"
      ]
    },
    {
      "cell_type": "code",
      "execution_count": 18,
      "metadata": {
        "id": "4pAGBHRhByvS",
        "colab": {
          "base_uri": "https://localhost:8080/"
        },
        "outputId": "176f8125-3649-4afe-cc71-562135eb885d"
      },
      "outputs": [
        {
          "output_type": "stream",
          "name": "stdout",
          "text": [
            "[[0 1 0 1 0 1 0 1]\n",
            " [0 1 0 1 0 1 0 1]\n",
            " [0 1 0 1 0 1 0 1]\n",
            " [0 1 0 1 0 1 0 1]\n",
            " [0 1 0 1 0 1 0 1]\n",
            " [0 1 0 1 0 1 0 1]\n",
            " [0 1 0 1 0 1 0 1]\n",
            " [0 1 0 1 0 1 0 1]]\n"
          ]
        }
      ],
      "source": [
        "arr=np.ones(64,dtype=int)\n",
        "arr[::2]=0\n",
        "arr=arr.reshape((8,8))\n",
        "print(arr)"
      ]
    },
    {
      "cell_type": "markdown",
      "metadata": {
        "id": "LzIdBbfXByvT"
      },
      "source": [
        "#### 20. Consider a (6,7,8) shape array, what is the index (x,y,z) of the 100th element? \n",
        "(**hint**: np.unravel_index)"
      ]
    },
    {
      "cell_type": "code",
      "execution_count": 19,
      "metadata": {
        "id": "1vNzrHVQByvU",
        "colab": {
          "base_uri": "https://localhost:8080/"
        },
        "outputId": "aab2dd21-3113-4d07-bba6-cf7316381908"
      },
      "outputs": [
        {
          "output_type": "stream",
          "name": "stdout",
          "text": [
            "(1, 5, 3)\n"
          ]
        }
      ],
      "source": [
        "print(np.unravel_index(99,(6,7,8)))"
      ]
    },
    {
      "cell_type": "markdown",
      "metadata": {
        "id": "_teZ9n4dByvU"
      },
      "source": [
        "#### 21. Create a checkerboard 8x8 matrix using the tile function (★☆☆) \n",
        "(**hint**: np.tile)"
      ]
    },
    {
      "cell_type": "code",
      "execution_count": 20,
      "metadata": {
        "id": "N17fm0BGByvV",
        "colab": {
          "base_uri": "https://localhost:8080/"
        },
        "outputId": "4e29ea6a-845b-4884-9f01-e48be4f53cb0"
      },
      "outputs": [
        {
          "output_type": "stream",
          "name": "stdout",
          "text": [
            "[[0 1 0 1 0 1 0 1]\n",
            " [1 0 1 0 1 0 1 0]\n",
            " [0 1 0 1 0 1 0 1]\n",
            " [1 0 1 0 1 0 1 0]\n",
            " [0 1 0 1 0 1 0 1]\n",
            " [1 0 1 0 1 0 1 0]\n",
            " [0 1 0 1 0 1 0 1]\n",
            " [1 0 1 0 1 0 1 0]]\n"
          ]
        }
      ],
      "source": [
        "a=np.tile(np.array([[0,1],[1,0]]),(4,4))\n",
        "print(a)"
      ]
    },
    {
      "cell_type": "markdown",
      "metadata": {
        "id": "MDEiaO68ByvV"
      },
      "source": [
        "#### 22. Normalize a 5x5 random matrix (★☆☆) \n",
        "(**hint**: (x - min) / (max - min))"
      ]
    },
    {
      "cell_type": "code",
      "execution_count": 21,
      "metadata": {
        "id": "sASu8dDXByvY",
        "colab": {
          "base_uri": "https://localhost:8080/"
        },
        "outputId": "ee58cb60-dcb9-4d5e-a848-37f01b8fc78d"
      },
      "outputs": [
        {
          "output_type": "stream",
          "name": "stdout",
          "text": [
            "[[ inf  inf -inf  inf  inf]\n",
            " [-inf -inf  inf -inf -inf]\n",
            " [ inf  inf -inf  inf -inf]\n",
            " [ inf -inf -inf -inf  inf]\n",
            " [ inf -inf -inf -inf -inf]]\n"
          ]
        },
        {
          "output_type": "stream",
          "name": "stderr",
          "text": [
            "/usr/local/lib/python3.7/dist-packages/ipykernel_launcher.py:2: RuntimeWarning: divide by zero encountered in true_divide\n",
            "  \n"
          ]
        }
      ],
      "source": [
        "a=np.random.random((5,5))\n",
        "a=(a-np.mean(a))/(np.std(z))\n",
        "print(a)"
      ]
    },
    {
      "cell_type": "markdown",
      "metadata": {
        "id": "0Kw0xgumByvY"
      },
      "source": [
        "#### 23. Create a custom dtype that describes a color as four unsigned bytes (RGBA) (★☆☆) \n",
        "(**hint**: np.dtype)"
      ]
    },
    {
      "cell_type": "code",
      "execution_count": 22,
      "metadata": {
        "collapsed": true,
        "id": "n81lefHOByvY"
      },
      "outputs": [],
      "source": [
        "color=np.dtype([('r',np.ubyte),\n",
        "                ('g',np.ubyte),\n",
        "                ('b',np.ubyte),\n",
        "                ('a',np.ubyte)])"
      ]
    },
    {
      "cell_type": "markdown",
      "metadata": {
        "id": "QAzMhHdgByvY"
      },
      "source": [
        "#### 24. Multiply a 5x3 matrix by a 3x2 matrix (real matrix product) (★☆☆) \n",
        "(**hint**: np.dot | @)"
      ]
    },
    {
      "cell_type": "code",
      "execution_count": 23,
      "metadata": {
        "id": "g4DkOVxeByvZ",
        "colab": {
          "base_uri": "https://localhost:8080/"
        },
        "outputId": "73af3ae6-1872-48e1-bf8c-27c157448125"
      },
      "outputs": [
        {
          "output_type": "stream",
          "name": "stdout",
          "text": [
            "[[3. 3.]\n",
            " [3. 3.]\n",
            " [3. 3.]\n",
            " [3. 3.]\n",
            " [3. 3.]]\n"
          ]
        }
      ],
      "source": [
        "a=np.dot(np.ones((5,3)),np.ones((3,2)))\n",
        "print(a)"
      ]
    },
    {
      "cell_type": "markdown",
      "metadata": {
        "id": "5OJ0QaFgByvZ"
      },
      "source": [
        "#### 25. Given a 1D array, negate all elements which are between 3 and 8, in place. (★☆☆) \n",
        "(**hint**: >, <=)"
      ]
    },
    {
      "cell_type": "code",
      "execution_count": 24,
      "metadata": {
        "id": "2wWbKqrGByvZ",
        "colab": {
          "base_uri": "https://localhost:8080/"
        },
        "outputId": "e322ac0d-9990-49d7-c419-a3241d8221c7"
      },
      "outputs": [
        {
          "output_type": "stream",
          "name": "stdout",
          "text": [
            "[ 0  1  2  3 -4 -5 -6 -7  8  9 10]\n"
          ]
        }
      ],
      "source": [
        "a=np.arange(11)\n",
        "a[(3<a)&(a<8)]*=-1\n",
        "print(a)"
      ]
    },
    {
      "cell_type": "markdown",
      "metadata": {
        "id": "kTRAS_Z5Byva"
      },
      "source": [
        "#### 26. What is the output of the following script? (★☆☆) \n",
        "(**hint**: np.sum)"
      ]
    },
    {
      "cell_type": "markdown",
      "metadata": {
        "id": "iBBUIXPCByva"
      },
      "source": [
        "```python\n",
        "# Author: Jake VanderPlas\n",
        "\n",
        "print(sum(range(5),-1))\n",
        "from numpy import *\n",
        "print(sum(range(5),-1))\n",
        "```"
      ]
    },
    {
      "cell_type": "code",
      "execution_count": 25,
      "metadata": {
        "id": "vuYizlIUByva",
        "colab": {
          "base_uri": "https://localhost:8080/"
        },
        "outputId": "cbc2eaeb-da9a-4891-8bec-e4a3d657d987"
      },
      "outputs": [
        {
          "output_type": "stream",
          "name": "stdout",
          "text": [
            "9\n",
            "10\n"
          ]
        }
      ],
      "source": [
        "print(sum(range(5),-1))\n",
        "from numpy import *\n",
        "print(sum(range(5),-1))"
      ]
    },
    {
      "cell_type": "markdown",
      "metadata": {
        "id": "NgHSkpAFByvb"
      },
      "source": [
        "#### 27. Consider an integer vector Z, which of these expressions are legal? (★☆☆)"
      ]
    },
    {
      "cell_type": "markdown",
      "metadata": {
        "id": "w56DHN_fByvb"
      },
      "source": [
        "```python\n",
        "Z**Z\n",
        "2 << Z >> 2\n",
        "Z <- Z\n",
        "1j*Z\n",
        "Z/1/1\n",
        "Z<Z>Z\n",
        "```"
      ]
    },
    {
      "cell_type": "code",
      "execution_count": 26,
      "metadata": {
        "id": "ijnYWacfByvc",
        "colab": {
          "base_uri": "https://localhost:8080/"
        },
        "outputId": "88b93b1d-dafe-43c6-ba61-f842dbe8331b"
      },
      "outputs": [
        {
          "output_type": "execute_result",
          "data": {
            "text/plain": [
              "array([[0., 0., 0., 0., 0., 0., 0., 0., 0., 0.],\n",
              "       [0., 0., 0., 0., 0., 0., 0., 0., 0., 0.],\n",
              "       [0., 0., 0., 0., 0., 0., 0., 0., 0., 0.],\n",
              "       [0., 0., 0., 0., 0., 0., 0., 0., 0., 0.],\n",
              "       [0., 0., 0., 0., 0., 0., 0., 0., 0., 0.],\n",
              "       [0., 0., 0., 0., 0., 0., 0., 0., 0., 0.],\n",
              "       [0., 0., 0., 0., 0., 0., 0., 0., 0., 0.],\n",
              "       [0., 0., 0., 0., 0., 0., 0., 0., 0., 0.],\n",
              "       [0., 0., 0., 0., 0., 0., 0., 0., 0., 0.],\n",
              "       [0., 0., 0., 0., 0., 0., 0., 0., 0., 0.]])"
            ]
          },
          "metadata": {},
          "execution_count": 26
        }
      ],
      "source": [
        "z**z\n",
        "z <- z\n",
        "1j*z\n",
        "z/1/1"
      ]
    },
    {
      "cell_type": "markdown",
      "metadata": {
        "id": "y0bbG5KrByvc"
      },
      "source": [
        "#### 28. What are the result of the following expressions?"
      ]
    },
    {
      "cell_type": "markdown",
      "metadata": {
        "id": "wqFRjuMoByvc"
      },
      "source": [
        "```python\n",
        "np.array(0) / np.array(0)\n",
        "np.array(0) // np.array(0)\n",
        "np.array([np.nan]).astype(int).astype(float)\n",
        "```"
      ]
    },
    {
      "cell_type": "code",
      "execution_count": 27,
      "metadata": {
        "id": "UnGF-BfrByvd",
        "colab": {
          "base_uri": "https://localhost:8080/"
        },
        "outputId": "c0ea9bf0-6374-4f56-86c6-e4b87ce32763"
      },
      "outputs": [
        {
          "output_type": "stream",
          "name": "stdout",
          "text": [
            "nan\n",
            "0\n",
            "[-9.22337204e+18]\n"
          ]
        },
        {
          "output_type": "stream",
          "name": "stderr",
          "text": [
            "/usr/local/lib/python3.7/dist-packages/ipykernel_launcher.py:1: RuntimeWarning: invalid value encountered in true_divide\n",
            "  \"\"\"Entry point for launching an IPython kernel.\n",
            "/usr/local/lib/python3.7/dist-packages/ipykernel_launcher.py:2: RuntimeWarning: divide by zero encountered in floor_divide\n",
            "  \n"
          ]
        }
      ],
      "source": [
        "print(np.array(0)/np.array(0))\n",
        "print(np.array(0)//np.array(0))\n",
        "print(np.array([np.nan]).astype(int).astype(float))"
      ]
    },
    {
      "cell_type": "markdown",
      "metadata": {
        "id": "iDmhoofxByvd"
      },
      "source": [
        "#### 29. How to round away from zero a float array ? (★☆☆) \n",
        "(**hint**: np.uniform, np.copysign, np.ceil, np.abs)"
      ]
    },
    {
      "cell_type": "code",
      "execution_count": 28,
      "metadata": {
        "id": "j_2r0yRFByvd",
        "colab": {
          "base_uri": "https://localhost:8080/"
        },
        "outputId": "1bca181d-7d6e-464a-f7d7-4abfbf8512e4"
      },
      "outputs": [
        {
          "output_type": "stream",
          "name": "stdout",
          "text": [
            "[10.  1.  8. -6.  5.  5. -3.  9.  7.  2.]\n"
          ]
        }
      ],
      "source": [
        "a=np.random.uniform(-10,+10,10)\n",
        "print(np.where(a>0,np.ceil(a),np.floor(a)))"
      ]
    },
    {
      "cell_type": "markdown",
      "metadata": {
        "id": "xAfK_pYNByvd"
      },
      "source": [
        "#### 30. How to find common values between two arrays? (★☆☆) \n",
        "(**hint**: np.intersect1d)"
      ]
    },
    {
      "cell_type": "code",
      "execution_count": 29,
      "metadata": {
        "id": "09ksdyZoByve",
        "colab": {
          "base_uri": "https://localhost:8080/"
        },
        "outputId": "80eacd8b-b71b-4a07-a563-fd27a0b12fda"
      },
      "outputs": [
        {
          "output_type": "stream",
          "name": "stdout",
          "text": [
            "[1 4 5 6 7 8]\n"
          ]
        }
      ],
      "source": [
        "a1=np.random.randint(0,10,10)\n",
        "a2=np.random.randint(0,10,10)\n",
        "print(np.intersect1d(a1,a2))"
      ]
    },
    {
      "cell_type": "markdown",
      "metadata": {
        "id": "QyvO_t_dByve"
      },
      "source": [
        "#### 31. How to ignore all numpy warnings (not recommended)? (★☆☆) \n",
        "(**hint**: np.seterr, np.errstate)"
      ]
    },
    {
      "cell_type": "code",
      "execution_count": 30,
      "metadata": {
        "id": "n1-YOaU-Byve"
      },
      "outputs": [],
      "source": [
        "defaults=np.seterr(all='ignore')\n",
        "a=np.ones(1)/0"
      ]
    },
    {
      "cell_type": "markdown",
      "metadata": {
        "id": "TGQebZDEByve"
      },
      "source": [
        "#### 32. Is the following expressions true? (★☆☆) \n",
        "(**hint**: imaginary number)"
      ]
    },
    {
      "cell_type": "markdown",
      "metadata": {
        "id": "BpMiBkciByvf"
      },
      "source": [
        "```python\n",
        "np.sqrt(-1) == np.emath.sqrt(-1)\n",
        "```"
      ]
    },
    {
      "cell_type": "code",
      "execution_count": 31,
      "metadata": {
        "id": "Kq4Bo42DByvf",
        "colab": {
          "base_uri": "https://localhost:8080/"
        },
        "outputId": "6b54f1a0-4369-458f-d367-432e90c4002e"
      },
      "outputs": [
        {
          "output_type": "execute_result",
          "data": {
            "text/plain": [
              "False"
            ]
          },
          "metadata": {},
          "execution_count": 31
        }
      ],
      "source": [
        "np.sqrt(-1) == np.emath.sqrt(-1)"
      ]
    },
    {
      "cell_type": "markdown",
      "metadata": {
        "id": "o9nxEyJhByvf"
      },
      "source": [
        "#### 33. How to get the dates of yesterday, today and tomorrow? (★☆☆) \n",
        "(**hint**: np.datetime64, np.timedelta64)"
      ]
    },
    {
      "cell_type": "code",
      "execution_count": 32,
      "metadata": {
        "collapsed": true,
        "id": "28TBQ2CnByvg",
        "colab": {
          "base_uri": "https://localhost:8080/"
        },
        "outputId": "100de628-68c9-48fe-978a-5972079a9d11"
      },
      "outputs": [
        {
          "output_type": "stream",
          "name": "stdout",
          "text": [
            "2022-11-03\n",
            "2022-11-04\n",
            "2022-11-05\n"
          ]
        }
      ],
      "source": [
        "yesterday = np.datetime64('today') - np.timedelta64(1)\n",
        "today = np.datetime64('today')\n",
        "tomorrow = np.datetime64('today') + np.timedelta64(1)\n",
        "print(yesterday)\n",
        "print(today)\n",
        "print(tomorrow)"
      ]
    },
    {
      "cell_type": "markdown",
      "metadata": {
        "id": "1b3gJvHjByvg"
      },
      "source": [
        "#### 34. How to get all the dates corresponding to the month of July 2016? (★★☆) \n",
        "(**hint**: np.arange(dtype=datetime64\\['D'\\]))"
      ]
    },
    {
      "cell_type": "code",
      "execution_count": 33,
      "metadata": {
        "id": "QhKm1TA1Byvh",
        "colab": {
          "base_uri": "https://localhost:8080/"
        },
        "outputId": "ac318fc0-53c4-47ee-cf57-e5519a9f99a3"
      },
      "outputs": [
        {
          "output_type": "stream",
          "name": "stdout",
          "text": [
            "['2016-07-01' '2016-07-02' '2016-07-03' '2016-07-04' '2016-07-05'\n",
            " '2016-07-06' '2016-07-07' '2016-07-08' '2016-07-09' '2016-07-10'\n",
            " '2016-07-11' '2016-07-12' '2016-07-13' '2016-07-14' '2016-07-15'\n",
            " '2016-07-16' '2016-07-17' '2016-07-18' '2016-07-19' '2016-07-20'\n",
            " '2016-07-21' '2016-07-22' '2016-07-23' '2016-07-24' '2016-07-25'\n",
            " '2016-07-26' '2016-07-27' '2016-07-28' '2016-07-29' '2016-07-30'\n",
            " '2016-07-31']\n"
          ]
        }
      ],
      "source": [
        "a = np.arange('2016-07','2016-08',dtype='datetime64[D]')\n",
        "print(a)"
      ]
    },
    {
      "cell_type": "markdown",
      "metadata": {
        "id": "1jJ4sOlyByvh"
      },
      "source": [
        "#### 35. How to compute ((A+B)\\*(-A/2)) in place (without copy)? (★★☆) \n",
        "(**hint**: np.add(out=), np.negative(out=), np.multiply(out=), np.divide(out=))"
      ]
    },
    {
      "cell_type": "code",
      "execution_count": 34,
      "metadata": {
        "id": "_G7fnj6jByvi",
        "colab": {
          "base_uri": "https://localhost:8080/"
        },
        "outputId": "aebc393c-4795-46bb-fee9-4a1f771f15e9"
      },
      "outputs": [
        {
          "output_type": "execute_result",
          "data": {
            "text/plain": [
              "array([-1., -1., -1.])"
            ]
          },
          "metadata": {},
          "execution_count": 34
        }
      ],
      "source": [
        "A=np.ones(3)*1\n",
        "B = np.ones(3)*1\n",
        "np.add(A,B,out=B)\n",
        "np.divide(A,2,out=A)\n",
        "np.negative(A,out=A)\n",
        "np.multiply(A,B,out=A)"
      ]
    },
    {
      "cell_type": "markdown",
      "metadata": {
        "id": "_FPW6R7cByvi"
      },
      "source": [
        "#### 36. Extract the integer part of a random array using 5 different methods (★★☆) \n",
        "(**hint**: %, np.floor, np.ceil, astype, np.trunc)"
      ]
    },
    {
      "cell_type": "code",
      "execution_count": 35,
      "metadata": {
        "id": "-d6sccW9Byvj",
        "colab": {
          "base_uri": "https://localhost:8080/"
        },
        "outputId": "26f9990f-5868-4598-8ba7-a81a32a41d05"
      },
      "outputs": [
        {
          "output_type": "stream",
          "name": "stdout",
          "text": [
            "[5. 9. 1. 0. 7. 6. 5. 4. 8. 1.]\n",
            "[5. 9. 1. 0. 7. 6. 5. 4. 8. 1.]\n",
            "[5. 9. 1. 0. 7. 6. 5. 4. 8. 1.]\n",
            "[5 9 1 0 7 6 5 4 8 1]\n",
            "[5. 9. 1. 0. 7. 6. 5. 4. 8. 1.]\n"
          ]
        }
      ],
      "source": [
        "a=np.random.uniform(0,10,10)\n",
        "print(a-a%1)\n",
        "print(a//1)\n",
        "print(np.floor(a))\n",
        "print(a.astype(int))\n",
        "print(np.trunc(a))"
      ]
    },
    {
      "cell_type": "markdown",
      "metadata": {
        "id": "T1gLQa7XByvk"
      },
      "source": [
        "#### 37. Create a 5x5 matrix with row values ranging from 0 to 4 (★★☆) \n",
        "(**hint**: np.arange)"
      ]
    },
    {
      "cell_type": "code",
      "execution_count": 36,
      "metadata": {
        "id": "diLKlir3Byvk",
        "colab": {
          "base_uri": "https://localhost:8080/"
        },
        "outputId": "f2cb1dce-4711-4dad-8053-4729eacb3d89"
      },
      "outputs": [
        {
          "output_type": "stream",
          "name": "stdout",
          "text": [
            "[[0. 1. 2. 3. 4.]\n",
            " [0. 1. 2. 3. 4.]\n",
            " [0. 1. 2. 3. 4.]\n",
            " [0. 1. 2. 3. 4.]\n",
            " [0. 1. 2. 3. 4.]]\n"
          ]
        }
      ],
      "source": [
        "a=np.zeros((5,5))\n",
        "a=a+np.arange(5)\n",
        "print(a)"
      ]
    },
    {
      "cell_type": "markdown",
      "metadata": {
        "id": "N5iuFHknByvl"
      },
      "source": [
        "#### 38. Consider a generator function that generates 10 integers and use it to build an array (★☆☆) \n",
        "(**hint**: np.fromiter)"
      ]
    },
    {
      "cell_type": "code",
      "execution_count": 37,
      "metadata": {
        "id": "NWVZWKO4Byvl",
        "colab": {
          "base_uri": "https://localhost:8080/"
        },
        "outputId": "7f137fc5-74e4-4ed9-970f-34ca78644de2"
      },
      "outputs": [
        {
          "output_type": "stream",
          "name": "stdout",
          "text": [
            "[0. 1. 2. 3. 4. 5. 6. 7. 8. 9.]\n"
          ]
        }
      ],
      "source": [
        "def generate():\n",
        "  for x in range(10):\n",
        "    yield x\n",
        "a=np.fromiter(generate(),dtype=float,count=-1)\n",
        "print(a)"
      ]
    },
    {
      "cell_type": "markdown",
      "metadata": {
        "id": "sh7bntGCByvm"
      },
      "source": [
        "#### 39. Create a vector of size 10 with values ranging from 0 to 1, both excluded (★★☆) \n",
        "(**hint**: np.linspace)"
      ]
    },
    {
      "cell_type": "code",
      "execution_count": 38,
      "metadata": {
        "id": "qoJbWenvByvm",
        "colab": {
          "base_uri": "https://localhost:8080/"
        },
        "outputId": "04f301a7-6974-48a4-af92-c91180ac08c9"
      },
      "outputs": [
        {
          "output_type": "stream",
          "name": "stdout",
          "text": [
            "[0.09090909 0.18181818 0.27272727 0.36363636 0.45454545 0.54545455\n",
            " 0.63636364 0.72727273 0.81818182 0.90909091]\n"
          ]
        }
      ],
      "source": [
        "a=np.linspace(0,1,11,endpoint=False)[1:]\n",
        "print(a)"
      ]
    },
    {
      "cell_type": "markdown",
      "metadata": {
        "id": "EaHG4Jg_Byvn"
      },
      "source": [
        "#### 40. Create a random vector of size 10 and sort it (★★☆) \n",
        "(**hint**: sort)"
      ]
    },
    {
      "cell_type": "code",
      "execution_count": 39,
      "metadata": {
        "id": "_9mvJ4XLByvn",
        "colab": {
          "base_uri": "https://localhost:8080/"
        },
        "outputId": "c6224fa2-3bdd-47e5-bd0d-ba1a88772d29"
      },
      "outputs": [
        {
          "output_type": "stream",
          "name": "stdout",
          "text": [
            "[0.06493299 0.08266616 0.12036395 0.30744662 0.31699579 0.44427043\n",
            " 0.4543708  0.64273638 0.64569451 0.7904425 ]\n"
          ]
        }
      ],
      "source": [
        "a=np.random.random(10)\n",
        "a.sort()\n",
        "print(a)"
      ]
    },
    {
      "cell_type": "markdown",
      "metadata": {
        "id": "-kb6YjGHByvn"
      },
      "source": [
        "#### 41. How to sum a small array faster than np.sum? (★★☆) \n",
        "(**hint**: np.add.reduce)"
      ]
    },
    {
      "cell_type": "code",
      "execution_count": 40,
      "metadata": {
        "id": "V-IYlgMKByvo",
        "colab": {
          "base_uri": "https://localhost:8080/"
        },
        "outputId": "d6ab9a41-1138-4621-c1ae-b22bdeb8fedb"
      },
      "outputs": [
        {
          "output_type": "execute_result",
          "data": {
            "text/plain": [
              "45"
            ]
          },
          "metadata": {},
          "execution_count": 40
        }
      ],
      "source": [
        "a=np.arange(10)\n",
        "np.add.reduce(a)"
      ]
    },
    {
      "cell_type": "markdown",
      "metadata": {
        "id": "L43RwpNkByvo"
      },
      "source": [
        "#### 42. Consider two random array A and B, check if they are equal (★★☆) \n",
        "(**hint**: np.allclose, np.array\\_equal)"
      ]
    },
    {
      "cell_type": "code",
      "execution_count": 41,
      "metadata": {
        "id": "zNbeTvBiByvo",
        "colab": {
          "base_uri": "https://localhost:8080/"
        },
        "outputId": "20cdd83d-8e00-446b-ec7d-f44f0117187d"
      },
      "outputs": [
        {
          "output_type": "stream",
          "name": "stdout",
          "text": [
            "False\n"
          ]
        }
      ],
      "source": [
        "a=np.random.randint(0,2,5)\n",
        "b=np.random.randint(0,2,5)\n",
        "equal=np.allclose(a,b)\n",
        "print(equal)"
      ]
    },
    {
      "cell_type": "markdown",
      "metadata": {
        "id": "wCXiMUlSByvo"
      },
      "source": [
        "#### 43. Make an array immutable (read-only) (★★☆) \n",
        "(**hint**: flags.writeable)"
      ]
    },
    {
      "cell_type": "code",
      "execution_count": 42,
      "metadata": {
        "id": "aU5jgnPXByvp"
      },
      "outputs": [],
      "source": [
        "a=np.zeros(10)\n",
        "a.flags.writeable = True\n",
        "a[0] = 1 "
      ]
    },
    {
      "cell_type": "markdown",
      "metadata": {
        "id": "ko1t-LUlByvp"
      },
      "source": [
        "#### 44. Consider a random 10x2 matrix representing cartesian coordinates, convert them to polar coordinates (★★☆) \n",
        "(**hint**: np.sqrt, np.arctan2)"
      ]
    },
    {
      "cell_type": "code",
      "execution_count": 43,
      "metadata": {
        "id": "cj47agL6Byvp",
        "colab": {
          "base_uri": "https://localhost:8080/"
        },
        "outputId": "233270a9-2337-4c69-bdf9-21dc2c545306"
      },
      "outputs": [
        {
          "output_type": "stream",
          "name": "stdout",
          "text": [
            "[0.39385623 1.04052239 0.44383297 0.94905373 0.47800672 1.14582125\n",
            " 0.86926117 0.24776184 1.18107627 0.07379633]\n",
            "[1.16742877 0.6076332  0.689015   1.05005427 0.86894057 0.77229794\n",
            " 0.52908707 0.6127245  0.78707662 1.4380422 ]\n"
          ]
        }
      ],
      "source": [
        "a=np.random.random((10,2))\n",
        "x,y=a[:,0],a[:,1]\n",
        "b=np.sqrt(x**2+y**2)\n",
        "c=np.arctan2(x,y)\n",
        "print(b)\n",
        "print(c)"
      ]
    },
    {
      "cell_type": "markdown",
      "metadata": {
        "id": "8VwQ0wZ2Byvq"
      },
      "source": [
        "#### 45. Create random vector of size 10 and replace the maximum value by 0 (★★☆) \n",
        "(**hint**: argmax)"
      ]
    },
    {
      "cell_type": "code",
      "execution_count": 44,
      "metadata": {
        "id": "sojsMLbQByvq",
        "colab": {
          "base_uri": "https://localhost:8080/"
        },
        "outputId": "09829a56-1d90-4481-cd5e-a3adc01a703e"
      },
      "outputs": [
        {
          "output_type": "stream",
          "name": "stdout",
          "text": [
            "[0.08858126 0.36690427 0.40637046 0.14181088 0.         0.15217553\n",
            " 0.54116819 0.76087435 0.13478909 0.5029954 ]\n"
          ]
        }
      ],
      "source": [
        "a=np.random.random(10)\n",
        "a[a.argmax()]=0\n",
        "print(a)"
      ]
    },
    {
      "cell_type": "markdown",
      "metadata": {
        "id": "tbAXAqu-Byvq"
      },
      "source": [
        "#### 46. Create a structured array with `x` and `y` coordinates covering the \\[0,1\\]x\\[0,1\\] area (★★☆) \n",
        "(**hint**: np.meshgrid)"
      ]
    },
    {
      "cell_type": "code",
      "execution_count": 45,
      "metadata": {
        "id": "HtrMrH5kByvr",
        "colab": {
          "base_uri": "https://localhost:8080/"
        },
        "outputId": "79eb1b23-d8f4-46a1-84ab-bb89df89bc17"
      },
      "outputs": [
        {
          "output_type": "stream",
          "name": "stdout",
          "text": [
            "[[(0.  , 0.  ) (0.25, 0.  ) (0.5 , 0.  ) (0.75, 0.  ) (1.  , 0.  )]\n",
            " [(0.  , 0.25) (0.25, 0.25) (0.5 , 0.25) (0.75, 0.25) (1.  , 0.25)]\n",
            " [(0.  , 0.5 ) (0.25, 0.5 ) (0.5 , 0.5 ) (0.75, 0.5 ) (1.  , 0.5 )]\n",
            " [(0.  , 0.75) (0.25, 0.75) (0.5 , 0.75) (0.75, 0.75) (1.  , 0.75)]\n",
            " [(0.  , 1.  ) (0.25, 1.  ) (0.5 , 1.  ) (0.75, 1.  ) (1.  , 1.  )]]\n"
          ]
        }
      ],
      "source": [
        "a=np.zeros((5,5),[('x',float),('y',float)])\n",
        "a['x'],a['y']=np.meshgrid(np.linspace(0,1,5),np.linspace(0,1,5))\n",
        "print(a)"
      ]
    },
    {
      "cell_type": "markdown",
      "metadata": {
        "id": "E9_9aacoByvr"
      },
      "source": [
        "####  47. Given two arrays, X and Y, construct the Cauchy matrix C (Cij =1/(xi - yj)) \n",
        "(**hint**: np.subtract.outer)"
      ]
    },
    {
      "cell_type": "code",
      "execution_count": 46,
      "metadata": {
        "id": "EvC412oYByvr",
        "colab": {
          "base_uri": "https://localhost:8080/"
        },
        "outputId": "4d0dc208-6c8d-4d6b-fb99-9ab480f829ae"
      },
      "outputs": [
        {
          "output_type": "stream",
          "name": "stdout",
          "text": [
            "3638.163637117973\n"
          ]
        }
      ],
      "source": [
        "a=np.arange(8)\n",
        "b=a+0.5\n",
        "c=1.0/np.subtract.outer(a,b)\n",
        "print(np.linalg.det(c))"
      ]
    },
    {
      "cell_type": "markdown",
      "metadata": {
        "id": "NQbEu1TNByvr"
      },
      "source": [
        "#### 48. Print the minimum and maximum representable value for each numpy scalar type (★★☆) \n",
        "(**hint**: np.iinfo, np.finfo, eps)"
      ]
    },
    {
      "cell_type": "code",
      "execution_count": 47,
      "metadata": {
        "id": "s_OetQcTByvs",
        "colab": {
          "base_uri": "https://localhost:8080/"
        },
        "outputId": "38fc0425-148a-407d-eb16-08bec5a47884"
      },
      "outputs": [
        {
          "output_type": "stream",
          "name": "stdout",
          "text": [
            "-128\n",
            "127\n",
            "-2147483648\n",
            "2147483647\n",
            "-9223372036854775808\n",
            "9223372036854775807\n",
            "-3.4028235e+38\n",
            "3.4028235e+38\n",
            "1.1920929e-07\n",
            "-1.7976931348623157e+308\n",
            "1.7976931348623157e+308\n",
            "2.220446049250313e-16\n"
          ]
        }
      ],
      "source": [
        "for dtype in[np.int8,np.int32,np.int64]:\n",
        "  print(np.iinfo(dtype).min)\n",
        "  print(np.iinfo(dtype).max)\n",
        "for dtype in[np.float32,np.float64]:\n",
        "  print(np.finfo(dtype).min)\n",
        "  print(np.finfo(dtype).max)\n",
        "  print(np.finfo(dtype).eps)\n"
      ]
    },
    {
      "cell_type": "markdown",
      "metadata": {
        "id": "8NRVIhDpByvs"
      },
      "source": [
        "#### 49. How to print all the values of an array? (★★☆) \n",
        "(**hint**: np.set\\_printoptions)"
      ]
    },
    {
      "cell_type": "code",
      "execution_count": 48,
      "metadata": {
        "id": "WywbhjTFByvs",
        "colab": {
          "base_uri": "https://localhost:8080/"
        },
        "outputId": "e43e2fa6-3969-4bab-88f9-f89589c3b5d7"
      },
      "outputs": [
        {
          "output_type": "stream",
          "name": "stdout",
          "text": [
            "[[0. 0. 0. 0. 0. 0. 0. 0. 0. 0.]\n",
            " [0. 0. 0. 0. 0. 0. 0. 0. 0. 0.]\n",
            " [0. 0. 0. 0. 0. 0. 0. 0. 0. 0.]\n",
            " [0. 0. 0. 0. 0. 0. 0. 0. 0. 0.]\n",
            " [0. 0. 0. 0. 0. 0. 0. 0. 0. 0.]\n",
            " [0. 0. 0. 0. 0. 0. 0. 0. 0. 0.]\n",
            " [0. 0. 0. 0. 0. 0. 0. 0. 0. 0.]\n",
            " [0. 0. 0. 0. 0. 0. 0. 0. 0. 0.]\n",
            " [0. 0. 0. 0. 0. 0. 0. 0. 0. 0.]\n",
            " [0. 0. 0. 0. 0. 0. 0. 0. 0. 0.]]\n"
          ]
        }
      ],
      "source": [
        "np.set_printoptions(threshold=float('inf'))\n",
        "a=np.zeros((10,10))\n",
        "print(a)"
      ]
    },
    {
      "cell_type": "markdown",
      "metadata": {
        "id": "LzVOH1i_Byvt"
      },
      "source": [
        "#### 50. How to find the closest value (to a given scalar) in a vector? (★★☆) \n",
        "(**hint**: argmin)"
      ]
    },
    {
      "cell_type": "code",
      "execution_count": 49,
      "metadata": {
        "id": "oElt22MgByvt",
        "colab": {
          "base_uri": "https://localhost:8080/"
        },
        "outputId": "25ed2a8d-f03b-41c7-d474-8cab7eaf036c"
      },
      "outputs": [
        {
          "output_type": "stream",
          "name": "stdout",
          "text": [
            "79\n"
          ]
        }
      ],
      "source": [
        "a=np.arange(100)\n",
        "b=np.random.uniform(0,100)\n",
        "index=(np.abs(a-b)).argmin()\n",
        "print(a[index])"
      ]
    },
    {
      "cell_type": "markdown",
      "metadata": {
        "id": "Z4wUKG0DByvt"
      },
      "source": [
        "#### 51. Create a structured array representing a position (x,y) and a color (r,g,b) (★★☆) \n",
        "(**hint**: dtype)"
      ]
    },
    {
      "cell_type": "code",
      "execution_count": 50,
      "metadata": {
        "id": "Qau-bqWUByvt",
        "colab": {
          "base_uri": "https://localhost:8080/"
        },
        "outputId": "de546e34-3de0-4eed-a0d9-e8263c232ee9"
      },
      "outputs": [
        {
          "output_type": "stream",
          "name": "stdout",
          "text": [
            "[((0., 0.), (0., 0., 0.)) ((0., 0.), (0., 0., 0.))\n",
            " ((0., 0.), (0., 0., 0.)) ((0., 0.), (0., 0., 0.))\n",
            " ((0., 0.), (0., 0., 0.)) ((0., 0.), (0., 0., 0.))\n",
            " ((0., 0.), (0., 0., 0.)) ((0., 0.), (0., 0., 0.))\n",
            " ((0., 0.), (0., 0., 0.)) ((0., 0.), (0., 0., 0.))]\n"
          ]
        },
        {
          "output_type": "stream",
          "name": "stderr",
          "text": [
            "/usr/local/lib/python3.7/dist-packages/ipykernel_launcher.py:5: FutureWarning: Passing (type, 1) or '1type' as a synonym of type is deprecated; in a future version of numpy, it will be understood as (type, (1,)) / '(1,)type'.\n",
            "  \"\"\"\n"
          ]
        }
      ],
      "source": [
        "a=np.zeros(10,[('position', [('x',float,1),\n",
        "                            ('y',float,1)]),\n",
        "              ('color',[('r',float,1),\n",
        "                        ('g',float,1),\n",
        "                        ('b',float,1)])])\n",
        "print(a)"
      ]
    },
    {
      "cell_type": "markdown",
      "metadata": {
        "id": "JlaN4pbcByvu"
      },
      "source": [
        "#### 52. Consider a random vector with shape (100,2) representing coordinates, find point by point distances (★★☆) \n",
        "(**hint**: np.atleast\\_2d, T, np.sqrt)"
      ]
    },
    {
      "cell_type": "code",
      "execution_count": 51,
      "metadata": {
        "id": "XiNDGH66Byvu",
        "colab": {
          "base_uri": "https://localhost:8080/"
        },
        "outputId": "02b45b49-6c34-4e36-e459-a95093c79b34"
      },
      "outputs": [
        {
          "output_type": "stream",
          "name": "stdout",
          "text": [
            "[[0.         0.76012736 0.33136916 0.61301545 0.63875167 0.93248744\n",
            "  0.37931597 0.47046611 0.93583817 0.67193706]\n",
            " [0.76012736 0.         0.84225838 0.46319148 0.1929731  0.38545485\n",
            "  0.52305326 0.29495625 0.4817623  0.52774331]\n",
            " [0.33136916 0.84225838 0.         0.86418007 0.79134782 0.86968766\n",
            "  0.64824756 0.61116987 0.83123567 0.52323935]\n",
            " [0.61301545 0.46319148 0.86418007 0.         0.27392815 0.83300928\n",
            "  0.2340296  0.33020676 0.91036928 0.82913478]\n",
            " [0.63875167 0.1929731  0.79134782 0.27392815 0.         0.56006312\n",
            "  0.34465053 0.18120355 0.64213985 0.60648463]\n",
            " [0.93248744 0.38545485 0.86968766 0.83300928 0.56006312 0.\n",
            "  0.82963477 0.56850618 0.11758304 0.36962726]\n",
            " [0.37931597 0.52305326 0.64824756 0.2340296  0.34465053 0.82963477\n",
            "  0.         0.26115917 0.88042301 0.72238112]\n",
            " [0.47046611 0.29495625 0.61116987 0.33020676 0.18120355 0.56850618\n",
            "  0.26115917 0.         0.62156502 0.50001319]\n",
            " [0.93583817 0.4817623  0.83123567 0.91036928 0.64213985 0.11758304\n",
            "  0.88042301 0.62156502 0.         0.31056848]\n",
            " [0.67193706 0.52774331 0.52323935 0.82913478 0.60648463 0.36962726\n",
            "  0.72238112 0.50001319 0.31056848 0.        ]]\n"
          ]
        }
      ],
      "source": [
        "import scipy\n",
        "import scipy.spatial\n",
        "\n",
        "a=np.random.random((10,2))\n",
        "b=scipy.spatial.distance.cdist(a,a)\n",
        "print(b)"
      ]
    },
    {
      "cell_type": "markdown",
      "metadata": {
        "id": "6R-UE0kDByvv"
      },
      "source": [
        "#### 53. How to convert a float (32 bits) array into an integer (32 bits) in place? \n",
        "(**hint**: astype(copy=False))"
      ]
    },
    {
      "cell_type": "code",
      "execution_count": 52,
      "metadata": {
        "id": "2zbfZGLjByvv",
        "colab": {
          "base_uri": "https://localhost:8080/"
        },
        "outputId": "bcd24e66-d926-4c06-e133-246bc8f7f586"
      },
      "outputs": [
        {
          "output_type": "stream",
          "name": "stdout",
          "text": [
            "[0.1545956  0.85427053 0.34258252 0.47217698 0.30861832 0.82076219\n",
            " 0.75040555 0.20269004 0.83374411 0.00976802]\n"
          ]
        }
      ],
      "source": [
        "a=(np.random.rand(10)*100).astype(np.float32)\n",
        "b=a.view(np.int32)\n",
        "b[:]=a\n",
        "print(y)"
      ]
    },
    {
      "cell_type": "markdown",
      "metadata": {
        "id": "pWQQJ-JkByvw"
      },
      "source": [
        "#### 54. How to read the following file? (★★☆) \n",
        "(**hint**: np.genfromtxt)"
      ]
    },
    {
      "cell_type": "markdown",
      "metadata": {
        "id": "rqH1comDByvx"
      },
      "source": [
        "```\n",
        "1, 2, 3, 4, 5\n",
        "6,  ,  , 7, 8\n",
        " ,  , 9,10,11\n",
        "```"
      ]
    },
    {
      "cell_type": "code",
      "execution_count": 53,
      "metadata": {
        "id": "Z38DbOH5Byvy",
        "colab": {
          "base_uri": "https://localhost:8080/"
        },
        "outputId": "982f91db-f093-4671-f2a2-9657fa2e1a53"
      },
      "outputs": [
        {
          "output_type": "stream",
          "name": "stdout",
          "text": [
            "[[ 1  2  3  4  5]\n",
            " [ 6 -1 -1  7  8]\n",
            " [-1 -1  9 10 11]]\n"
          ]
        },
        {
          "output_type": "stream",
          "name": "stderr",
          "text": [
            "/usr/local/lib/python3.7/dist-packages/ipykernel_launcher.py:6: DeprecationWarning: `np.int` is a deprecated alias for the builtin `int`. To silence this warning, use `int` by itself. Doing this will not modify any behavior and is safe. When replacing `np.int`, you may wish to use e.g. `np.int64` or `np.int32` to specify the precision. If you wish to review your current use, check the release note link for additional information.\n",
            "Deprecated in NumPy 1.20; for more details and guidance: https://numpy.org/devdocs/release/1.20.0-notes.html#deprecations\n",
            "  \n"
          ]
        }
      ],
      "source": [
        "from io import StringIO\n",
        "s = StringIO('''1, 2, 3, 4, 5\n",
        "                6,  ,  , 7, 8\n",
        "                 ,  , 9,10,11\n",
        " ''')\n",
        "a=np.genfromtxt(s,delimiter=',',dtype=np.int)\n",
        "print(a)"
      ]
    },
    {
      "cell_type": "markdown",
      "metadata": {
        "id": "Aq1E11_WByvy"
      },
      "source": [
        "#### 55. What is the equivalent of enumerate for numpy arrays? (★★☆) \n",
        "(**hint**: np.ndenumerate, np.ndindex)"
      ]
    },
    {
      "cell_type": "code",
      "execution_count": 54,
      "metadata": {
        "id": "KvIN8ulbByvy",
        "colab": {
          "base_uri": "https://localhost:8080/"
        },
        "outputId": "6566eeb8-287d-4426-8569-1bb8992295da"
      },
      "outputs": [
        {
          "output_type": "stream",
          "name": "stdout",
          "text": [
            "(0, 0) 0\n",
            "(0, 1) 1\n",
            "(0, 2) 2\n",
            "(1, 0) 3\n",
            "(1, 1) 4\n",
            "(1, 2) 5\n",
            "(2, 0) 6\n",
            "(2, 1) 7\n",
            "(2, 2) 8\n",
            "(0, 0) 0\n",
            "(0, 1) 1\n",
            "(0, 2) 2\n",
            "(1, 0) 3\n",
            "(1, 1) 4\n",
            "(1, 2) 5\n",
            "(2, 0) 6\n",
            "(2, 1) 7\n",
            "(2, 2) 8\n"
          ]
        }
      ],
      "source": [
        "a=np.arange(9).reshape(3,3)\n",
        "for index,value in np.ndenumerate(a):\n",
        "  print(index,value)\n",
        "for index in np.ndindex(a.shape):\n",
        "  print(index,a[index])"
      ]
    },
    {
      "cell_type": "markdown",
      "metadata": {
        "id": "MgB1Ce3mByvz"
      },
      "source": [
        "#### 56. Generate a generic 2D Gaussian-like array (★★☆) \n",
        "(**hint**: np.meshgrid, np.exp)"
      ]
    },
    {
      "cell_type": "code",
      "execution_count": 55,
      "metadata": {
        "id": "1hORb45aByv0",
        "colab": {
          "base_uri": "https://localhost:8080/"
        },
        "outputId": "fdeff0b7-5771-4217-a6ad-df94d3ed0b9a"
      },
      "outputs": [
        {
          "output_type": "stream",
          "name": "stdout",
          "text": [
            "[[0.36787944 0.44822088 0.51979489 0.57375342 0.60279818 0.60279818\n",
            "  0.57375342 0.51979489 0.44822088 0.36787944]\n",
            " [0.44822088 0.54610814 0.63331324 0.69905581 0.73444367 0.73444367\n",
            "  0.69905581 0.63331324 0.54610814 0.44822088]\n",
            " [0.51979489 0.63331324 0.73444367 0.81068432 0.85172308 0.85172308\n",
            "  0.81068432 0.73444367 0.63331324 0.51979489]\n",
            " [0.57375342 0.69905581 0.81068432 0.89483932 0.9401382  0.9401382\n",
            "  0.89483932 0.81068432 0.69905581 0.57375342]\n",
            " [0.60279818 0.73444367 0.85172308 0.9401382  0.98773022 0.98773022\n",
            "  0.9401382  0.85172308 0.73444367 0.60279818]\n",
            " [0.60279818 0.73444367 0.85172308 0.9401382  0.98773022 0.98773022\n",
            "  0.9401382  0.85172308 0.73444367 0.60279818]\n",
            " [0.57375342 0.69905581 0.81068432 0.89483932 0.9401382  0.9401382\n",
            "  0.89483932 0.81068432 0.69905581 0.57375342]\n",
            " [0.51979489 0.63331324 0.73444367 0.81068432 0.85172308 0.85172308\n",
            "  0.81068432 0.73444367 0.63331324 0.51979489]\n",
            " [0.44822088 0.54610814 0.63331324 0.69905581 0.73444367 0.73444367\n",
            "  0.69905581 0.63331324 0.54610814 0.44822088]\n",
            " [0.36787944 0.44822088 0.51979489 0.57375342 0.60279818 0.60279818\n",
            "  0.57375342 0.51979489 0.44822088 0.36787944]]\n"
          ]
        }
      ],
      "source": [
        "x,y=np.meshgrid(np.linspace(-1,1,10),np.linspace(-1,1,10))\n",
        "a=np.sqrt(x*x+y*y)\n",
        "sigma,mu=1.0,0.0\n",
        "b=np.exp(-((a-mu)**2/(2.0*sigma**2)))\n",
        "print(b)"
      ]
    },
    {
      "cell_type": "markdown",
      "metadata": {
        "id": "bLBa4WBBByv0"
      },
      "source": [
        "#### 57. How to randomly place p elements in a 2D array? (★★☆) \n",
        "(**hint**: np.put, np.random.choice)"
      ]
    },
    {
      "cell_type": "code",
      "execution_count": 56,
      "metadata": {
        "id": "klNDKK6pByv1",
        "colab": {
          "base_uri": "https://localhost:8080/"
        },
        "outputId": "085df699-7a8f-4b56-aeff-0e52ebe15c56"
      },
      "outputs": [
        {
          "output_type": "stream",
          "name": "stdout",
          "text": [
            "[[0. 0. 0. 0. 0. 0. 0. 0. 0. 0.]\n",
            " [0. 0. 0. 0. 0. 0. 0. 0. 0. 1.]\n",
            " [0. 0. 0. 0. 1. 0. 0. 0. 0. 0.]\n",
            " [0. 0. 0. 0. 0. 0. 0. 0. 0. 0.]\n",
            " [0. 0. 0. 0. 0. 0. 0. 0. 0. 0.]\n",
            " [0. 1. 0. 0. 0. 0. 0. 0. 0. 0.]\n",
            " [0. 0. 0. 0. 0. 0. 0. 0. 0. 0.]\n",
            " [0. 0. 0. 0. 0. 0. 0. 0. 0. 0.]\n",
            " [0. 0. 0. 0. 0. 0. 0. 0. 0. 0.]\n",
            " [0. 0. 0. 0. 0. 0. 0. 0. 0. 0.]]\n"
          ]
        }
      ],
      "source": [
        "n=10\n",
        "p=3\n",
        "a=np.zeros((n,n))\n",
        "np.put(a,np.random.choice(range(n*n),p,replace=False),1)\n",
        "print(a)"
      ]
    },
    {
      "cell_type": "markdown",
      "metadata": {
        "id": "xz2fZP9FByv2"
      },
      "source": [
        "#### 58. Subtract the mean of each row of a matrix (★★☆) \n",
        "(**hint**: mean(axis=,keepdims=))"
      ]
    },
    {
      "cell_type": "code",
      "execution_count": 57,
      "metadata": {
        "id": "j9_bv__tByv2",
        "colab": {
          "base_uri": "https://localhost:8080/"
        },
        "outputId": "ccdc8dc1-5f77-42ac-b811-7ba4ff15cf08"
      },
      "outputs": [
        {
          "output_type": "stream",
          "name": "stdout",
          "text": [
            "[[-0.38759172  0.27344345  0.24297619  0.30295677  0.30155946 -0.13404864\n",
            "  -0.40875951  0.29726058 -0.59216823  0.10437165]\n",
            " [-0.28856468 -0.46942564  0.44611228  0.03163614  0.15001652  0.42547335\n",
            "  -0.30862886 -0.45351681  0.21710064  0.24979706]\n",
            " [-0.38254691 -0.13288467  0.31766732 -0.06990326  0.5098893  -0.25866421\n",
            "   0.07882745  0.18849815 -0.22292154 -0.02796162]\n",
            " [ 0.20457405 -0.25197953  0.25899959  0.42967522  0.14800675 -0.19050992\n",
            "  -0.36047326  0.01224475  0.06818341 -0.31872105]\n",
            " [ 0.5162319   0.03571281 -0.30977779  0.17636488  0.42361135  0.09727659\n",
            "  -0.35451608 -0.35387301  0.14866406 -0.37969473]]\n"
          ]
        }
      ],
      "source": [
        "a=np.random.rand(5,10)\n",
        "b=a-a.mean(axis=1,keepdims=True)\n",
        "print(b)"
      ]
    },
    {
      "cell_type": "markdown",
      "metadata": {
        "id": "q4aiL6c3Byv2"
      },
      "source": [
        "#### 59. How to sort an array by the nth column? (★★☆) \n",
        "(**hint**: argsort)"
      ]
    },
    {
      "cell_type": "code",
      "execution_count": 58,
      "metadata": {
        "id": "3Tnb7j6yByv3",
        "colab": {
          "base_uri": "https://localhost:8080/"
        },
        "outputId": "91766731-510d-4435-a28b-233ca877db34"
      },
      "outputs": [
        {
          "output_type": "stream",
          "name": "stdout",
          "text": [
            "[[5 1 7]\n",
            " [6 3 3]\n",
            " [4 3 6]]\n",
            "[[5 1 7]\n",
            " [6 3 3]\n",
            " [4 3 6]]\n"
          ]
        }
      ],
      "source": [
        "a=np.random.randint(0,10,(3,3))\n",
        "print(a)\n",
        "print(a[a[:,1].argsort()])"
      ]
    },
    {
      "cell_type": "markdown",
      "metadata": {
        "id": "23z79GxgByv3"
      },
      "source": [
        "#### 60. How to tell if a given 2D array has null columns? (★★☆) \n",
        "(**hint**: any, ~)"
      ]
    },
    {
      "cell_type": "code",
      "execution_count": 59,
      "metadata": {
        "id": "Op3uehm8Byv3",
        "colab": {
          "base_uri": "https://localhost:8080/"
        },
        "outputId": "3cea3658-1f70-469e-ddb8-b5bd7cfda103"
      },
      "outputs": [
        {
          "output_type": "stream",
          "name": "stdout",
          "text": [
            "True\n"
          ]
        }
      ],
      "source": [
        "a=np.random.randint(0,3,(3,10))\n",
        "print((~a.any(axis=0)).any())"
      ]
    },
    {
      "cell_type": "markdown",
      "metadata": {
        "id": "u3dG6E-1Byv4"
      },
      "source": [
        "#### 61. Find the nearest value from a given value in an array (★★☆) \n",
        "(**hint**: np.abs, argmin, flat)"
      ]
    },
    {
      "cell_type": "code",
      "execution_count": 60,
      "metadata": {
        "id": "Zep7yordByv4",
        "colab": {
          "base_uri": "https://localhost:8080/"
        },
        "outputId": "f5b3e04b-8957-48aa-e7a4-ce339a859cb6"
      },
      "outputs": [
        {
          "output_type": "stream",
          "name": "stdout",
          "text": [
            "0.4967099395287685\n"
          ]
        }
      ],
      "source": [
        "A=np.random.uniform(0,1,10)\n",
        "a=0.5\n",
        "m=A.flat[np.abs(A-a).argmin()]\n",
        "print(m)"
      ]
    },
    {
      "cell_type": "markdown",
      "metadata": {
        "id": "HupktfphByv4"
      },
      "source": [
        "#### 62. Considering two arrays with shape (1,3) and (3,1), how to compute their sum using an iterator? (★★☆) \n",
        "(**hint**: np.nditer)"
      ]
    },
    {
      "cell_type": "code",
      "execution_count": 61,
      "metadata": {
        "id": "2olcvnN4Byv5",
        "colab": {
          "base_uri": "https://localhost:8080/"
        },
        "outputId": "64a36700-9115-42cf-e38c-7def5e6071f9"
      },
      "outputs": [
        {
          "output_type": "stream",
          "name": "stdout",
          "text": [
            "[[0 1 2]\n",
            " [1 2 3]\n",
            " [2 3 4]]\n"
          ]
        }
      ],
      "source": [
        "a=np.arange(3).reshape(3,1)\n",
        "b=np.arange(3).reshape(1,3)\n",
        "it=np.nditer([a,b,None])\n",
        "for x,y,z in it:z[...]=x+y\n",
        "print(it.operands[2])"
      ]
    },
    {
      "cell_type": "markdown",
      "metadata": {
        "id": "QAXroGUnByv5"
      },
      "source": [
        "#### 63. Create an array class that has a name attribute (★★☆) \n",
        "(**hint**: class method)"
      ]
    },
    {
      "cell_type": "code",
      "execution_count": 62,
      "metadata": {
        "id": "IPO2S8RJByv6"
      },
      "outputs": [],
      "source": [
        "class NamedArray(np.ndarray):\n",
        "    def __new__(cls, array, name):\n",
        "        obj = np.asarray(array).view(cls)\n",
        "        obj.name = name\n",
        "        return obj\n",
        "    def __array_finalize__(self, obj):\n",
        "        if obj is None: return\n",
        "        self.name = getattr(obj)"
      ]
    },
    {
      "cell_type": "markdown",
      "metadata": {
        "id": "yzG2PjacByv6"
      },
      "source": [
        "#### 64. Consider a given vector, how to add 1 to each element indexed by a second vector (be careful with repeated indices)? (★★★) \n",
        "(**hint**: np.bincount | np.add.at)"
      ]
    },
    {
      "cell_type": "code",
      "execution_count": 63,
      "metadata": {
        "id": "IsSILDgNByv-",
        "colab": {
          "base_uri": "https://localhost:8080/"
        },
        "outputId": "82e6fa00-e807-4e45-a0a1-8dd8d21d64f6"
      },
      "outputs": [
        {
          "output_type": "stream",
          "name": "stdout",
          "text": [
            "[4. 3. 2. 3. 3. 3. 2. 4. 3. 3.]\n"
          ]
        }
      ],
      "source": [
        "a=np.ones(10)\n",
        "b=np.random.randint(0,len(a),20)\n",
        "a+=np.bincount(b,minlength=len(a))\n",
        "print(a)"
      ]
    },
    {
      "cell_type": "markdown",
      "metadata": {
        "id": "5lMiq7mXByv_"
      },
      "source": [
        "#### 65. How to accumulate elements of a vector (X) to an array (F) based on an index list (I)? (★★★) \n",
        "(**hint**: np.bincount)"
      ]
    },
    {
      "cell_type": "code",
      "execution_count": 64,
      "metadata": {
        "id": "hDoKkZUkByv_",
        "colab": {
          "base_uri": "https://localhost:8080/"
        },
        "outputId": "9f3f2c1b-6449-46e6-f63b-64dab3f85fd8"
      },
      "outputs": [
        {
          "output_type": "stream",
          "name": "stdout",
          "text": [
            "[0. 7. 2. 0. 3. 4. 0. 5.]\n"
          ]
        }
      ],
      "source": [
        "a=[1,2,3,4,5,6]\n",
        "b=[1,2,4,5,7,1]\n",
        "F=np.bincount(b,a)\n",
        "print(F)"
      ]
    },
    {
      "cell_type": "markdown",
      "metadata": {
        "id": "oF3pt17MBywA"
      },
      "source": [
        "#### 66. Considering a (w,h,3) image of (dtype=ubyte), compute the number of unique colors (★★★) \n",
        "(**hint**: np.unique)"
      ]
    },
    {
      "cell_type": "code",
      "execution_count": 65,
      "metadata": {
        "id": "-_FTVW4tBywA",
        "colab": {
          "base_uri": "https://localhost:8080/"
        },
        "outputId": "7db1328b-51dc-4a52-a3cd-26131c4d8ca7"
      },
      "outputs": [
        {
          "output_type": "stream",
          "name": "stdout",
          "text": [
            "64\n"
          ]
        }
      ],
      "source": [
        "w,h=256,256\n",
        "I = np.random.randint(0,4,(h,w,3), dtype=np.uint8)\n",
        "I24 = np.dot(I.astype(np.uint32),[1,256,65536])\n",
        "n=len(np.unique(I24))\n",
        "print(n)"
      ]
    },
    {
      "cell_type": "markdown",
      "metadata": {
        "id": "5QH_EzRaBywB"
      },
      "source": [
        "#### 67. Considering a four dimensions array, how to get sum over the last two axis at once? (★★★) \n",
        "(**hint**: sum(axis=(-2,-1)))"
      ]
    },
    {
      "cell_type": "code",
      "execution_count": 66,
      "metadata": {
        "id": "q0TpOuYvBywB",
        "colab": {
          "base_uri": "https://localhost:8080/"
        },
        "outputId": "d5a1c306-50a5-4419-9562-960cf5cb74bf"
      },
      "outputs": [
        {
          "output_type": "stream",
          "name": "stdout",
          "text": [
            "[[62 63 40 50]\n",
            " [50 59 48 35]\n",
            " [41 51 72 56]]\n"
          ]
        }
      ],
      "source": [
        "a=np.random.randint(0,10,(3,4,3,4))\n",
        "sum=a.sum(axis=(-2,-1))\n",
        "print(sum)"
      ]
    },
    {
      "cell_type": "markdown",
      "metadata": {
        "id": "4bQ9Lph6BywC"
      },
      "source": [
        "#### 68. Considering a one-dimensional vector D, how to compute means of subsets of D using a vector S of same size describing subset  indices? (★★★) \n",
        "(**hint**: np.bincount)"
      ]
    },
    {
      "cell_type": "code",
      "execution_count": 67,
      "metadata": {
        "id": "K0caCmCkBywC",
        "colab": {
          "base_uri": "https://localhost:8080/"
        },
        "outputId": "698cce83-ea73-41eb-dc7f-e7db3027e64c"
      },
      "outputs": [
        {
          "output_type": "stream",
          "name": "stdout",
          "text": [
            "[0.49881757]\n"
          ]
        }
      ],
      "source": [
        "D=np.random.uniform(0,1,100)\n",
        "S=np.random.randint(0,1,100)\n",
        "D_sums=np.bincount(S,weights=D)\n",
        "D_counts=np.bincount(S)\n",
        "D_means=D_sums/D_counts\n",
        "print(D_means)"
      ]
    },
    {
      "cell_type": "markdown",
      "metadata": {
        "id": "HB0pDXtpBywC"
      },
      "source": [
        "#### 69. How to get the diagonal of a dot product? (★★★) \n",
        "(**hint**: np.diag)"
      ]
    },
    {
      "cell_type": "code",
      "execution_count": 68,
      "metadata": {
        "id": "pg04nQBhBywD",
        "colab": {
          "base_uri": "https://localhost:8080/"
        },
        "outputId": "a5882d59-169a-4336-9ce5-ed3c9e87239a"
      },
      "outputs": [
        {
          "output_type": "execute_result",
          "data": {
            "text/plain": [
              "array([1.5394336 , 0.91939913, 0.19848841, 1.91743804, 1.5431094 ])"
            ]
          },
          "metadata": {},
          "execution_count": 68
        }
      ],
      "source": [
        "A=np.random.uniform(0,1,(5,5))\n",
        "B=np.random.uniform(0,1,(5,5))\n",
        "np.diag(np.dot(A,B))\n",
        "np.sum(A*B.T,axis=1)"
      ]
    },
    {
      "cell_type": "markdown",
      "metadata": {
        "id": "A9Mvf3CMBywD"
      },
      "source": [
        "#### 70. Consider the vector \\[1, 2, 3, 4, 5\\], how to build a new vector with 3 consecutive zeros interleaved between each value? (★★★) \n",
        "(**hint**: array\\[::4\\])"
      ]
    },
    {
      "cell_type": "code",
      "execution_count": 69,
      "metadata": {
        "id": "YxEig8IGBywD",
        "colab": {
          "base_uri": "https://localhost:8080/"
        },
        "outputId": "360d677e-40b8-4ee3-cd1f-69445821853a"
      },
      "outputs": [
        {
          "output_type": "stream",
          "name": "stdout",
          "text": [
            "[0. 0. 0. 0. 0. 0. 0. 0. 0. 0. 0. 0. 0. 0. 0. 0. 0.]\n"
          ]
        }
      ],
      "source": [
        "a=np.array([1,2,3,4,5])\n",
        "nz=3\n",
        "a1=np.zeros(len(a)+(len(a)-1)*(nz))\n",
        "a1[::nz+1]=print(a1)"
      ]
    },
    {
      "cell_type": "markdown",
      "metadata": {
        "id": "1DzAaDr1BywD"
      },
      "source": [
        "#### 71. Consider an array of dimension (5,5,3), how to mulitply it by an array with dimensions (5,5)? (★★★) \n",
        "(**hint**: array\\[:, :, None\\])"
      ]
    },
    {
      "cell_type": "code",
      "execution_count": 70,
      "metadata": {
        "collapsed": true,
        "id": "DEjr-I9vBywE",
        "colab": {
          "base_uri": "https://localhost:8080/"
        },
        "outputId": "eec25807-70c9-4ab6-d270-ee7b27ab3c00"
      },
      "outputs": [
        {
          "output_type": "stream",
          "name": "stdout",
          "text": [
            "[[[2. 2. 2.]\n",
            "  [2. 2. 2.]\n",
            "  [2. 2. 2.]\n",
            "  [2. 2. 2.]\n",
            "  [2. 2. 2.]]\n",
            "\n",
            " [[2. 2. 2.]\n",
            "  [2. 2. 2.]\n",
            "  [2. 2. 2.]\n",
            "  [2. 2. 2.]\n",
            "  [2. 2. 2.]]\n",
            "\n",
            " [[2. 2. 2.]\n",
            "  [2. 2. 2.]\n",
            "  [2. 2. 2.]\n",
            "  [2. 2. 2.]\n",
            "  [2. 2. 2.]]\n",
            "\n",
            " [[2. 2. 2.]\n",
            "  [2. 2. 2.]\n",
            "  [2. 2. 2.]\n",
            "  [2. 2. 2.]\n",
            "  [2. 2. 2.]]\n",
            "\n",
            " [[2. 2. 2.]\n",
            "  [2. 2. 2.]\n",
            "  [2. 2. 2.]\n",
            "  [2. 2. 2.]\n",
            "  [2. 2. 2.]]]\n"
          ]
        }
      ],
      "source": [
        "x=np.ones((5,5,3))\n",
        "y=2*np.ones((5,5))\n",
        "print(x*y[:,:,None])"
      ]
    },
    {
      "cell_type": "markdown",
      "metadata": {
        "id": "B80PQHd5BywE"
      },
      "source": [
        "#### 72. How to swap two rows of an array? (★★★) \n",
        "(**hint**: array\\[\\[\\]\\] = array\\[\\[\\]\\])"
      ]
    },
    {
      "cell_type": "code",
      "execution_count": 71,
      "metadata": {
        "id": "-wLA34BgBywF",
        "colab": {
          "base_uri": "https://localhost:8080/"
        },
        "outputId": "47d2827b-1ee4-4041-de40-9c4df58ed140"
      },
      "outputs": [
        {
          "output_type": "stream",
          "name": "stdout",
          "text": [
            "[[ 5  6  7  8  9]\n",
            " [ 0  1  2  3  4]\n",
            " [10 11 12 13 14]\n",
            " [15 16 17 18 19]\n",
            " [20 21 22 23 24]]\n"
          ]
        }
      ],
      "source": [
        "a=np.arange(25).reshape(5,5)\n",
        "a[[0,1]]=a[[1,0]]\n",
        "print(a)"
      ]
    },
    {
      "cell_type": "markdown",
      "metadata": {
        "id": "a4xhdgWQBywF"
      },
      "source": [
        "#### 73. Consider a set of 10 triplets describing 10 triangles (with shared vertices), find the set of unique line segments composing all the  triangles (★★★) \n",
        "(**hint**: repeat, np.roll, np.sort, view, np.unique)"
      ]
    },
    {
      "cell_type": "code",
      "execution_count": 72,
      "metadata": {
        "id": "dpMj40jTBywG",
        "colab": {
          "base_uri": "https://localhost:8080/"
        },
        "outputId": "3c8f78c8-ced8-47d8-b914-8abb2696e87e"
      },
      "outputs": [
        {
          "output_type": "stream",
          "name": "stdout",
          "text": [
            "[( 4, 65) ( 4, 97) (11, 26) (11, 30) (11, 33) (11, 55) (15, 43) (15, 83)\n",
            " (16, 28) (16, 82) (18, 62) (18, 74) (25, 29) (25, 69) (26, 55) (28, 82)\n",
            " (29, 69) (30, 33) (36, 38) (36, 71) (38, 71) (38, 81) (43, 83) (48, 53)\n",
            " (48, 77) (53, 77) (62, 74) (65, 97) (71, 81)]\n"
          ]
        }
      ],
      "source": [
        "face=np.random.randint(0,100,(10,3))\n",
        "F=np.roll(face.repeat(2,axis=1),-1,axis=1)\n",
        "F=F.reshape(len(F)*3,2)\n",
        "F=np.sort(F,axis=1)\n",
        "G=F.view(dtype=[('p0',F.dtype),('p1',F.dtype)])\n",
        "G=np.unique(G)\n",
        "print(G)"
      ]
    },
    {
      "cell_type": "markdown",
      "metadata": {
        "id": "tznRwBgZBywG"
      },
      "source": [
        "#### 74. Given an array C that is a bincount, how to produce an array A such that np.bincount(A) == C? (★★★) \n",
        "(**hint**: np.repeat)"
      ]
    },
    {
      "cell_type": "code",
      "execution_count": 73,
      "metadata": {
        "id": "6vEdwPaGBywG",
        "colab": {
          "base_uri": "https://localhost:8080/"
        },
        "outputId": "42ac9cb6-8761-4b8c-a7bc-f69c07f0c72d"
      },
      "outputs": [
        {
          "output_type": "stream",
          "name": "stdout",
          "text": [
            "[1 1 2 3 4 4 6]\n"
          ]
        }
      ],
      "source": [
        "c=np.bincount([1,1,2,3,4,4,6])\n",
        "a=np.repeat(np.arange(len(c)),c)\n",
        "print(a)"
      ]
    },
    {
      "cell_type": "markdown",
      "metadata": {
        "id": "PJFS6OHsBywH"
      },
      "source": [
        "#### 75. How to compute averages using a sliding window over an array? (★★★) \n",
        "(**hint**: np.cumsum)"
      ]
    },
    {
      "cell_type": "code",
      "execution_count": 74,
      "metadata": {
        "id": "yiNjLw7jBywH",
        "colab": {
          "base_uri": "https://localhost:8080/"
        },
        "outputId": "cd558d08-5e4a-499d-d006-a656240b9804"
      },
      "outputs": [
        {
          "output_type": "stream",
          "name": "stdout",
          "text": [
            "[ 1.  2.  3.  4.  5.  6.  7.  8.  9. 10. 11. 12. 13. 14. 15. 16. 17. 18.]\n"
          ]
        }
      ],
      "source": [
        "def moving_average(a,n=3):\n",
        "  ret=np.cumsum(a,dtype=float)\n",
        "  ret[n:]=ret[n:]-ret[:-n]\n",
        "  return ret[n-1:]/n\n",
        "a=np.arange(20)\n",
        "print(moving_average(a,n=3))"
      ]
    },
    {
      "cell_type": "markdown",
      "metadata": {
        "id": "HmrmOJnUBywI"
      },
      "source": [
        "#### 76. Consider a one-dimensional array Z, build a two-dimensional array whose first row is (Z\\[0\\],Z\\[1\\],Z\\[2\\]) and each subsequent row is  shifted by 1 (last row should be (Z\\[-3\\],Z\\[-2\\],Z\\[-1\\]) (★★★) \n",
        "(**hint**: from numpy.lib import stride_tricks)"
      ]
    },
    {
      "cell_type": "code",
      "execution_count": 75,
      "metadata": {
        "id": "0vsaYQ0QBywI",
        "colab": {
          "base_uri": "https://localhost:8080/"
        },
        "outputId": "9ba8be73-f2a8-47d5-8666-bb94a3a8e4a0"
      },
      "outputs": [
        {
          "output_type": "stream",
          "name": "stdout",
          "text": [
            "[[0 1 2]\n",
            " [1 2 3]\n",
            " [2 3 4]\n",
            " [3 4 5]\n",
            " [4 5 6]\n",
            " [5 6 7]\n",
            " [6 7 8]\n",
            " [7 8 9]]\n"
          ]
        }
      ],
      "source": [
        "from numpy.lib import stride_tricks\n",
        "\n",
        "def rolling(a,window):\n",
        "  shape=(a.size - window +1, window)\n",
        "  strides = (a.strides[0],a.strides[0])\n",
        "  return stride_tricks.as_strided(a, shape=shape, strides=strides)\n",
        "\n",
        "a=rolling (np.arange(10),3)\n",
        "print(a)"
      ]
    },
    {
      "cell_type": "markdown",
      "metadata": {
        "id": "aBCtm47qBywJ"
      },
      "source": [
        "#### 77. How to negate a boolean, or to change the sign of a float inplace? (★★★) \n",
        "(**hint**: np.logical_not, np.negative)"
      ]
    },
    {
      "cell_type": "code",
      "execution_count": 76,
      "metadata": {
        "id": "zTrgcx5WBywJ",
        "colab": {
          "base_uri": "https://localhost:8080/"
        },
        "outputId": "77eb6406-8f28-47c2-c560-a90030e68c47"
      },
      "outputs": [
        {
          "output_type": "execute_result",
          "data": {
            "text/plain": [
              "array([-0.23560648, -0.44653659, -0.24798087, -0.28634212, -0.41017705,\n",
              "       -0.66612222, -0.74932743,  0.22425968, -0.71498907,  0.60066556,\n",
              "        0.20978153,  0.73271116, -0.25641888, -0.86227529, -0.56581317,\n",
              "       -0.34690946, -0.64543354,  0.80116706, -0.15040691,  0.5509974 ,\n",
              "        0.82703862,  0.93428176,  0.37879305, -0.01913953, -0.76266465,\n",
              "        0.49897124, -0.25000403,  0.73929819,  0.55748159, -0.06928031,\n",
              "       -0.21824719, -0.17836679,  0.74511765,  0.97831354,  0.61812671,\n",
              "       -0.99944095,  0.2148376 ,  0.93556039,  0.66000473, -0.27452739,\n",
              "       -0.54659347,  0.77180512,  0.08716826,  0.51153763, -0.98883547,\n",
              "        0.40045769, -0.86287718, -0.54646522, -0.74971155,  0.44250823,\n",
              "       -0.87984259, -0.92653383,  0.2581538 ,  0.28754209, -0.13344471,\n",
              "        0.87674279,  0.11683479,  0.44910649, -0.56800522, -0.63389865,\n",
              "       -0.28829003,  0.42708498, -0.89288527,  0.62216081,  0.58427342,\n",
              "        0.78809048, -0.2061242 , -0.04490576, -0.22957753,  0.82083656,\n",
              "       -0.96919741,  0.19147502,  0.85468004,  0.33554645, -0.60278183,\n",
              "        0.30327198, -0.90068773,  0.50820476,  0.93016708,  0.63938064,\n",
              "        0.09819173, -0.75808727,  0.14346379,  0.83390657,  0.42398345,\n",
              "        0.76746027, -0.90058827, -0.84922959,  0.09837337,  0.29046373,\n",
              "       -0.93359748,  0.20228144, -0.40495795,  0.05086962, -0.65523024,\n",
              "        0.63361196, -0.40132798,  0.18837734,  0.69029611, -0.06543951])"
            ]
          },
          "metadata": {},
          "execution_count": 76
        }
      ],
      "source": [
        "a=np.random.randint(0,2,100)\n",
        "np.logical_not(a,out=a)\n",
        "\n",
        "a=np.random.uniform(-1.0,1.0,100)\n",
        "np.negative(a,out=a)"
      ]
    },
    {
      "cell_type": "markdown",
      "metadata": {
        "id": "FHAP0b_TBywK"
      },
      "source": [
        "#### 78. Consider 2 sets of points P0,P1 describing lines (2d) and a point p, how to compute distance from p to each line i  (P0\\[i\\],P1\\[i\\])? (★★★)"
      ]
    },
    {
      "cell_type": "code",
      "execution_count": 77,
      "metadata": {
        "id": "ptvQ2IJVBywL",
        "colab": {
          "base_uri": "https://localhost:8080/"
        },
        "outputId": "6872a278-f705-484a-c3f8-4b734726b78b"
      },
      "outputs": [
        {
          "output_type": "stream",
          "name": "stdout",
          "text": [
            "[11.03885212 14.65913587  1.20361294  3.16008193  8.97136744  4.62291836\n",
            "  9.33075718  2.51876061  6.70215613  6.76684508]\n"
          ]
        }
      ],
      "source": [
        "def distance(p0,p1,p):\n",
        "  T=p1 -p0\n",
        "  L=(T**2).sum(axis=1)\n",
        "  U=-((p0[:,0]-p[...,0])*T[:,0]+(p0[:,1]-p[...,1])*T[:,1])/L\n",
        "  U=U.reshape(len(U),1)\n",
        "  D= p0 + U*T -p\n",
        "  return np.sqrt((D**2).sum(axis=1))\n",
        "\n",
        "\n",
        "p0=np.random.uniform(-10,10,(10,2))\n",
        "p1=np.random.uniform(-10,10,(10,2))\n",
        "p=np.random.uniform(-10,10,(1,2))\n",
        "print(distance(p0,p1,p))"
      ]
    },
    {
      "cell_type": "markdown",
      "metadata": {
        "id": "y8O38P00BywL"
      },
      "source": [
        "#### 79. Consider 2 sets of points P0,P1 describing lines (2d) and a set of points P, how to compute distance from each point j (P\\[j\\]) to each line i (P0\\[i\\],P1\\[i\\])? (★★★)"
      ]
    },
    {
      "cell_type": "code",
      "execution_count": 78,
      "metadata": {
        "id": "aHxIkGXuBywM",
        "colab": {
          "base_uri": "https://localhost:8080/"
        },
        "outputId": "0ac2c0fd-ac13-43c6-8064-d32ed91c2c31"
      },
      "outputs": [
        {
          "output_type": "stream",
          "name": "stdout",
          "text": [
            "[[ 9.62916838  6.27188493 12.70487023  7.8164102   0.29455264 13.98159187\n",
            "   1.15604868  1.36352245 11.55732676 16.43239549]\n",
            " [ 8.37002581  7.2909728   2.1621764   4.77656533  1.85926794  0.38784526\n",
            "   7.74784529  6.41533069  1.77839466  5.31048609]\n",
            " [ 9.1920179   6.26685518  1.43232387  4.52256886  1.02275693  0.78921423\n",
            "   7.88995228  6.86462019  0.74186789  6.39769483]\n",
            " [ 1.88765228  1.96355125 11.94879198 10.85442507  8.04673847 15.97650175\n",
            "   6.55307686  5.42192582  7.02260109 10.4007626 ]\n",
            " [ 2.9306448  11.88974881  4.49500775  4.24110623  7.34327193  0.08883859\n",
            "   5.15099594  2.39984665  6.50398596  0.1666118 ]\n",
            " [ 8.28510849  3.12396684  9.82253394  5.90196422  1.6971574  11.73096937\n",
            "   0.26791472  1.33398562  8.41935465 13.493034  ]\n",
            " [ 2.25283928 16.1194135   6.54297804  3.57540496 12.56567106  0.03079732\n",
            "   2.56014052  1.49983507 10.85763486  5.26559715]\n",
            " [ 5.99465781  3.04083049 10.96473424  8.01320487  3.96261725 13.61058546\n",
            "   2.7708938   1.24384094  8.24478339 12.6479352 ]\n",
            " [ 8.87714041  5.40418841 12.11652529  7.65449713  1.05822782 13.68932488\n",
            "   1.33872749  0.91933181 10.67685608 15.49232599]\n",
            " [10.6864692   2.56806132  2.00023657  2.19178975  0.54148254  3.50662162\n",
            "   6.75137173  6.80239628  2.94179048  9.82256873]]\n"
          ]
        }
      ],
      "source": [
        "p0=np.random.uniform(-10,10,(10,2))\n",
        "p1=np.random.uniform(-10,10,(10,2))\n",
        "p=np.random.uniform(-10,10,(10,2))\n",
        "print(np.array([distance(p0,p1,p_i)for p_i in p]))"
      ]
    },
    {
      "cell_type": "markdown",
      "metadata": {
        "id": "WkCJ88sxBywM"
      },
      "source": [
        "#### 80. Consider an arbitrary array, write a function that extract a subpart with a fixed shape and centered on a given element (pad with a `fill` value when necessary) (★★★) \n",
        "(**hint**: minimum, maximum)"
      ]
    },
    {
      "cell_type": "code",
      "execution_count": 79,
      "metadata": {
        "id": "b4Q8tFUEBywM",
        "colab": {
          "base_uri": "https://localhost:8080/"
        },
        "outputId": "52aaca8c-2177-448c-fa0b-2f656ab02ac2"
      },
      "outputs": [
        {
          "output_type": "stream",
          "name": "stdout",
          "text": [
            "[[-1.82988082  0.78979962]\n",
            " [ 0.73784079 -1.23406429]\n",
            " [-4.59354393  2.86068612]\n",
            " [-3.92556067 -7.73260938]\n",
            " [ 8.98343169 -5.55869181]\n",
            " [-5.73197378  8.01202053]\n",
            " [-0.14891104  4.47616187]\n",
            " [-6.12394868 -6.84652511]\n",
            " [-6.16290495 -2.565109  ]\n",
            " [ 2.97987422 -6.19348542]]\n",
            "[[0 0 0 0 0]\n",
            " [0 0 0 0 0]\n",
            " [0 0 0 0 0]\n",
            " [0 0 0 0 0]\n",
            " [0 0 0 0 0]]\n"
          ]
        },
        {
          "output_type": "stream",
          "name": "stderr",
          "text": [
            "/usr/local/lib/python3.7/dist-packages/ipykernel_launcher.py:23: FutureWarning: Using a non-tuple sequence for multidimensional indexing is deprecated; use `arr[tuple(seq)]` instead of `arr[seq]`. In the future this will be interpreted as an array index, `arr[np.array(seq)]`, which will result either in an error or a different result.\n"
          ]
        }
      ],
      "source": [
        "A=np.random.uniform(-10,10,(10,2))\n",
        "shape=(5,5)\n",
        "fill=0\n",
        "position=(1,1)\n",
        "\n",
        "R=np.ones(shape,dtype=z.dtype)*fill\n",
        "P=np.array(list(position)).astype(int)\n",
        "Rs=np.array(list(R.shape)).astype(int)\n",
        "As=np.array(list(A.shape)).astype(int)\n",
        "\n",
        "R_start=np.zeros((len(shape),)).astype(int)\n",
        "R_stop=np.zeros((len(shape),)).astype(int)\n",
        "A_start=(P-Rs//2)\n",
        "A_stop=(P+Rs//2)+Rs%2\n",
        "\n",
        "R_start=(R_start-np.minimum(A_start,0)).tolist()\n",
        "A_start=(np.minimum(A_start,0)).tolist()\n",
        "R_stop=np.minimum(R_start,(R_stop-np.minimum(A_stop-As,0))).tolist()\n",
        "A_stop=(np.minimum(A_stop,As)).tolist()\n",
        "\n",
        "r=[slice(start,stop) for start,stop in zip(R_start,R_stop)]\n",
        "a=[slice(start,stop) for start,stop in zip(A_start,A_stop)]\n",
        "R[r] = A[a]\n",
        "print(A)\n",
        "print(R)"
      ]
    },
    {
      "cell_type": "markdown",
      "metadata": {
        "id": "fj01G08lBywN"
      },
      "source": [
        "#### 81. Consider an array Z = \\[1,2,3,4,5,6,7,8,9,10,11,12,13,14\\], how to generate an array R = \\[\\[1,2,3,4\\], \\[2,3,4,5\\], \\[3,4,5,6\\], ..., \\[11,12,13,14\\]\\]? (★★★) \n",
        "(**hint**: stride\\_tricks.as\\_strided)"
      ]
    },
    {
      "cell_type": "code",
      "execution_count": 80,
      "metadata": {
        "id": "NOEtZ8O8BywO",
        "colab": {
          "base_uri": "https://localhost:8080/"
        },
        "outputId": "30f3a480-738e-41fb-e78f-9027d169881a"
      },
      "outputs": [
        {
          "output_type": "stream",
          "name": "stdout",
          "text": [
            "[[ 1  2  3  4]\n",
            " [ 2  3  4  5]\n",
            " [ 3  4  5  6]\n",
            " [ 4  5  6  7]\n",
            " [ 5  6  7  8]\n",
            " [ 6  7  8  9]\n",
            " [ 7  8  9 10]\n",
            " [ 8  9 10 11]\n",
            " [ 9 10 11 12]\n",
            " [10 11 12 13]\n",
            " [11 12 13 14]]\n"
          ]
        }
      ],
      "source": [
        "A = np.arange(1,15,dtype=np.uint32)\n",
        "R=stride_tricks.as_strided(A,(11,4),(4,4))\n",
        "print(R)"
      ]
    },
    {
      "cell_type": "markdown",
      "metadata": {
        "id": "X_Yfpp5nBywO"
      },
      "source": [
        "#### 82. Compute a matrix rank (★★★) \n",
        "(**hint**: np.linalg.svd) (suggestion: np.linalg.svd)"
      ]
    },
    {
      "cell_type": "code",
      "execution_count": 81,
      "metadata": {
        "id": "WCKpkqvsBywP",
        "colab": {
          "base_uri": "https://localhost:8080/"
        },
        "outputId": "d9073205-4a6c-4858-cb88-b24477ddf6a0"
      },
      "outputs": [
        {
          "output_type": "stream",
          "name": "stdout",
          "text": [
            "[[0.79645939 0.67613707 0.49686441 0.37000845 0.83231717 0.52433443\n",
            "  0.5199946  0.90832576 0.01230392 0.85615941]\n",
            " [0.20819081 0.86352682 0.01797283 0.49639392 0.24934787 0.72718385\n",
            "  0.5561201  0.61168714 0.2210685  0.09965485]\n",
            " [0.17743024 0.70012009 0.66621492 0.23138208 0.23456133 0.24575466\n",
            "  0.98053179 0.14862315 0.83588591 0.32050207]\n",
            " [0.13654357 0.53955159 0.71371234 0.20913294 0.52697075 0.1330877\n",
            "  0.32577611 0.24439743 0.24578883 0.82023447]\n",
            " [0.19388468 0.78597352 0.60973849 0.70181801 0.81244485 0.07561979\n",
            "  0.58834628 0.16951962 0.17104944 0.69064499]\n",
            " [0.34723559 0.5318903  0.99721    0.87697443 0.35639298 0.54061093\n",
            "  0.14140998 0.58194633 0.19289016 0.26998209]\n",
            " [0.67431533 0.45921267 0.77938426 0.20765093 0.78171511 0.97293874\n",
            "  0.42299458 0.44232342 0.58657619 0.61769027]\n",
            " [0.9176471  0.65980806 0.16655643 0.35592245 0.11640229 0.27282143\n",
            "  0.58844524 0.28417315 0.80722091 0.73886175]\n",
            " [0.19832481 0.54410866 0.37228401 0.90492915 0.33746207 0.63708747\n",
            "  0.11324965 0.62436634 0.81335356 0.09674373]\n",
            " [0.4279152  0.0818408  0.73454435 0.83910144 0.55602002 0.68337\n",
            "  0.68767197 0.89113494 0.71183853 0.60790152]]\n"
          ]
        }
      ],
      "source": [
        "A = np.random.uniform(0,1,(10,10))\n",
        "U,S,V = np.linalg.svd(A)\n",
        "rank=np.linalg.matrix_rank(A)\n",
        "print(A)"
      ]
    },
    {
      "cell_type": "markdown",
      "metadata": {
        "id": "8nRdJipHBywP"
      },
      "source": [
        "#### 83. How to find the most frequent value in an array? \n",
        "(**hint**: np.bincount, argmax)"
      ]
    },
    {
      "cell_type": "code",
      "execution_count": 82,
      "metadata": {
        "id": "s5jQbndDBywQ",
        "colab": {
          "base_uri": "https://localhost:8080/"
        },
        "outputId": "1244936b-9279-43ea-f479-f9f0b0313b08"
      },
      "outputs": [
        {
          "output_type": "stream",
          "name": "stdout",
          "text": [
            "0\n"
          ]
        }
      ],
      "source": [
        "A = np.random.randint(0,10,50)\n",
        "print(np.bincount(A).argmax())"
      ]
    },
    {
      "cell_type": "markdown",
      "metadata": {
        "id": "V4omnMjFBywQ"
      },
      "source": [
        "#### 84. Extract all the contiguous 3x3 blocks from a random 10x10 matrix (★★★) \n",
        "(**hint**: stride\\_tricks.as\\_strided)"
      ]
    },
    {
      "cell_type": "code",
      "execution_count": 83,
      "metadata": {
        "id": "njlC9mIfBywR",
        "colab": {
          "base_uri": "https://localhost:8080/"
        },
        "outputId": "4da71576-2ed6-40b7-c890-509c8499d2fa"
      },
      "outputs": [
        {
          "output_type": "stream",
          "name": "stdout",
          "text": [
            "[[[[1 2 3]\n",
            "   [0 2 2]\n",
            "   [4 3 1]]\n",
            "\n",
            "  [[2 3 4]\n",
            "   [2 2 3]\n",
            "   [3 1 3]]\n",
            "\n",
            "  [[3 4 2]\n",
            "   [2 3 2]\n",
            "   [1 3 0]]\n",
            "\n",
            "  [[4 2 2]\n",
            "   [3 2 1]\n",
            "   [3 0 0]]\n",
            "\n",
            "  [[2 2 0]\n",
            "   [2 1 4]\n",
            "   [0 0 1]]\n",
            "\n",
            "  [[2 0 2]\n",
            "   [1 4 1]\n",
            "   [0 1 1]]\n",
            "\n",
            "  [[0 2 2]\n",
            "   [4 1 0]\n",
            "   [1 1 1]]\n",
            "\n",
            "  [[2 2 2]\n",
            "   [1 0 0]\n",
            "   [1 1 0]]]\n",
            "\n",
            "\n",
            " [[[0 2 2]\n",
            "   [4 3 1]\n",
            "   [2 4 2]]\n",
            "\n",
            "  [[2 2 3]\n",
            "   [3 1 3]\n",
            "   [4 2 2]]\n",
            "\n",
            "  [[2 3 2]\n",
            "   [1 3 0]\n",
            "   [2 2 2]]\n",
            "\n",
            "  [[3 2 1]\n",
            "   [3 0 0]\n",
            "   [2 2 0]]\n",
            "\n",
            "  [[2 1 4]\n",
            "   [0 0 1]\n",
            "   [2 0 0]]\n",
            "\n",
            "  [[1 4 1]\n",
            "   [0 1 1]\n",
            "   [0 0 1]]\n",
            "\n",
            "  [[4 1 0]\n",
            "   [1 1 1]\n",
            "   [0 1 2]]\n",
            "\n",
            "  [[1 0 0]\n",
            "   [1 1 0]\n",
            "   [1 2 4]]]\n",
            "\n",
            "\n",
            " [[[4 3 1]\n",
            "   [2 4 2]\n",
            "   [2 1 4]]\n",
            "\n",
            "  [[3 1 3]\n",
            "   [4 2 2]\n",
            "   [1 4 1]]\n",
            "\n",
            "  [[1 3 0]\n",
            "   [2 2 2]\n",
            "   [4 1 3]]\n",
            "\n",
            "  [[3 0 0]\n",
            "   [2 2 0]\n",
            "   [1 3 0]]\n",
            "\n",
            "  [[0 0 1]\n",
            "   [2 0 0]\n",
            "   [3 0 1]]\n",
            "\n",
            "  [[0 1 1]\n",
            "   [0 0 1]\n",
            "   [0 1 3]]\n",
            "\n",
            "  [[1 1 1]\n",
            "   [0 1 2]\n",
            "   [1 3 0]]\n",
            "\n",
            "  [[1 1 0]\n",
            "   [1 2 4]\n",
            "   [3 0 0]]]\n",
            "\n",
            "\n",
            " [[[2 4 2]\n",
            "   [2 1 4]\n",
            "   [1 1 0]]\n",
            "\n",
            "  [[4 2 2]\n",
            "   [1 4 1]\n",
            "   [1 0 3]]\n",
            "\n",
            "  [[2 2 2]\n",
            "   [4 1 3]\n",
            "   [0 3 1]]\n",
            "\n",
            "  [[2 2 0]\n",
            "   [1 3 0]\n",
            "   [3 1 3]]\n",
            "\n",
            "  [[2 0 0]\n",
            "   [3 0 1]\n",
            "   [1 3 4]]\n",
            "\n",
            "  [[0 0 1]\n",
            "   [0 1 3]\n",
            "   [3 4 0]]\n",
            "\n",
            "  [[0 1 2]\n",
            "   [1 3 0]\n",
            "   [4 0 0]]\n",
            "\n",
            "  [[1 2 4]\n",
            "   [3 0 0]\n",
            "   [0 0 1]]]\n",
            "\n",
            "\n",
            " [[[2 1 4]\n",
            "   [1 1 0]\n",
            "   [4 2 0]]\n",
            "\n",
            "  [[1 4 1]\n",
            "   [1 0 3]\n",
            "   [2 0 0]]\n",
            "\n",
            "  [[4 1 3]\n",
            "   [0 3 1]\n",
            "   [0 0 2]]\n",
            "\n",
            "  [[1 3 0]\n",
            "   [3 1 3]\n",
            "   [0 2 0]]\n",
            "\n",
            "  [[3 0 1]\n",
            "   [1 3 4]\n",
            "   [2 0 4]]\n",
            "\n",
            "  [[0 1 3]\n",
            "   [3 4 0]\n",
            "   [0 4 4]]\n",
            "\n",
            "  [[1 3 0]\n",
            "   [4 0 0]\n",
            "   [4 4 3]]\n",
            "\n",
            "  [[3 0 0]\n",
            "   [0 0 1]\n",
            "   [4 3 0]]]\n",
            "\n",
            "\n",
            " [[[1 1 0]\n",
            "   [4 2 0]\n",
            "   [0 1 1]]\n",
            "\n",
            "  [[1 0 3]\n",
            "   [2 0 0]\n",
            "   [1 1 0]]\n",
            "\n",
            "  [[0 3 1]\n",
            "   [0 0 2]\n",
            "   [1 0 2]]\n",
            "\n",
            "  [[3 1 3]\n",
            "   [0 2 0]\n",
            "   [0 2 2]]\n",
            "\n",
            "  [[1 3 4]\n",
            "   [2 0 4]\n",
            "   [2 2 0]]\n",
            "\n",
            "  [[3 4 0]\n",
            "   [0 4 4]\n",
            "   [2 0 1]]\n",
            "\n",
            "  [[4 0 0]\n",
            "   [4 4 3]\n",
            "   [0 1 0]]\n",
            "\n",
            "  [[0 0 1]\n",
            "   [4 3 0]\n",
            "   [1 0 1]]]\n",
            "\n",
            "\n",
            " [[[4 2 0]\n",
            "   [0 1 1]\n",
            "   [2 4 1]]\n",
            "\n",
            "  [[2 0 0]\n",
            "   [1 1 0]\n",
            "   [4 1 2]]\n",
            "\n",
            "  [[0 0 2]\n",
            "   [1 0 2]\n",
            "   [1 2 1]]\n",
            "\n",
            "  [[0 2 0]\n",
            "   [0 2 2]\n",
            "   [2 1 1]]\n",
            "\n",
            "  [[2 0 4]\n",
            "   [2 2 0]\n",
            "   [1 1 1]]\n",
            "\n",
            "  [[0 4 4]\n",
            "   [2 0 1]\n",
            "   [1 1 2]]\n",
            "\n",
            "  [[4 4 3]\n",
            "   [0 1 0]\n",
            "   [1 2 4]]\n",
            "\n",
            "  [[4 3 0]\n",
            "   [1 0 1]\n",
            "   [2 4 4]]]\n",
            "\n",
            "\n",
            " [[[0 1 1]\n",
            "   [2 4 1]\n",
            "   [4 4 2]]\n",
            "\n",
            "  [[1 1 0]\n",
            "   [4 1 2]\n",
            "   [4 2 4]]\n",
            "\n",
            "  [[1 0 2]\n",
            "   [1 2 1]\n",
            "   [2 4 2]]\n",
            "\n",
            "  [[0 2 2]\n",
            "   [2 1 1]\n",
            "   [4 2 1]]\n",
            "\n",
            "  [[2 2 0]\n",
            "   [1 1 1]\n",
            "   [2 1 3]]\n",
            "\n",
            "  [[2 0 1]\n",
            "   [1 1 2]\n",
            "   [1 3 3]]\n",
            "\n",
            "  [[0 1 0]\n",
            "   [1 2 4]\n",
            "   [3 3 0]]\n",
            "\n",
            "  [[1 0 1]\n",
            "   [2 4 4]\n",
            "   [3 0 2]]]]\n"
          ]
        }
      ],
      "source": [
        "a=np.random.randint(0,5,(10,10))\n",
        "n=3\n",
        "i=1+(a.shape[0]-3)\n",
        "j=1+(a.shape[1]-3)\n",
        "C=stride_tricks.as_strided(a,shape=(i,j,n,n),strides=a.strides+a.strides)\n",
        "print(C)"
      ]
    },
    {
      "cell_type": "markdown",
      "metadata": {
        "id": "vTR_w5VdBywR"
      },
      "source": [
        "#### 85. Create a 2D array subclass such that Z\\[i,j\\] == Z\\[j,i\\] (★★★) \n",
        "(**hint**: class method)"
      ]
    },
    {
      "cell_type": "code",
      "execution_count": 84,
      "metadata": {
        "id": "jj_Mf5ZYBywS",
        "colab": {
          "base_uri": "https://localhost:8080/"
        },
        "outputId": "819419be-ffe5-41bd-df08-5d9801000044"
      },
      "outputs": [
        {
          "output_type": "stream",
          "name": "stdout",
          "text": [
            "[[ 7 11  8  2 13]\n",
            " [11  9  7  5 11]\n",
            " [ 8  7  7 42 14]\n",
            " [ 2  5  4  7  5]\n",
            " [13 11 14  5  8]]\n"
          ]
        }
      ],
      "source": [
        "class Symetric(np.ndarray):\n",
        "  def _setitem_(self,index,value):\n",
        "    i,j = index\n",
        "    super(Symetric,self)._setitem_((i,j),value)\n",
        "    super(Symetric,self)._setitem_((j,i),value)\n",
        "\n",
        "def symetric(A):\n",
        "  return np.asarray(A + A.T - np.diag(A.diagonal())).view(Symetric)\n",
        "\n",
        "S = symetric(np.random.randint(0,10,(5,5)))\n",
        "S[2,3] = 42\n",
        "print(S)"
      ]
    },
    {
      "cell_type": "markdown",
      "metadata": {
        "id": "MyV1_HMPBywS"
      },
      "source": [
        "#### 86. Consider a set of p matrices wich shape (n,n) and a set of p vectors with shape (n,1). How to compute the sum of of the p matrix products at once? (result has shape (n,1)) (★★★) \n",
        "(**hint**: np.tensordot)"
      ]
    },
    {
      "cell_type": "code",
      "execution_count": 85,
      "metadata": {
        "id": "qCpu7FXlBywU",
        "colab": {
          "base_uri": "https://localhost:8080/"
        },
        "outputId": "33a78fa8-ccb7-43c9-8ba2-ea8cd4091146"
      },
      "outputs": [
        {
          "output_type": "stream",
          "name": "stdout",
          "text": [
            "[[200.]\n",
            " [200.]\n",
            " [200.]\n",
            " [200.]\n",
            " [200.]\n",
            " [200.]\n",
            " [200.]\n",
            " [200.]\n",
            " [200.]\n",
            " [200.]\n",
            " [200.]\n",
            " [200.]\n",
            " [200.]\n",
            " [200.]\n",
            " [200.]\n",
            " [200.]\n",
            " [200.]\n",
            " [200.]\n",
            " [200.]\n",
            " [200.]]\n"
          ]
        }
      ],
      "source": [
        "p,n = 10,20\n",
        "M = np.ones((p,n,n))\n",
        "V = np.ones((p,n,1))\n",
        "S = tensordot(M,V,axes=[[0,2],[0,1]])\n",
        "print(S)"
      ]
    },
    {
      "cell_type": "markdown",
      "metadata": {
        "id": "yRndcMn2BywU"
      },
      "source": [
        "#### 87. Consider a 16x16 array, how to get the block-sum (block size is 4x4)? (★★★) \n",
        "(**hint**: np.add.reduceat)"
      ]
    },
    {
      "cell_type": "code",
      "execution_count": 86,
      "metadata": {
        "id": "I9oUyeUuBywV",
        "colab": {
          "base_uri": "https://localhost:8080/"
        },
        "outputId": "cbbc68e8-785e-4b35-ed7b-9500e0cdb77e"
      },
      "outputs": [
        {
          "output_type": "stream",
          "name": "stdout",
          "text": [
            "[[16. 16. 16. 16.]\n",
            " [16. 16. 16. 16.]\n",
            " [16. 16. 16. 16.]\n",
            " [16. 16. 16. 16.]]\n"
          ]
        }
      ],
      "source": [
        "A=np.ones((16,16))\n",
        "k=4\n",
        "S=np.add.reduceat(np.add.reduceat(A,np.arange(0,A.shape[0],k), axis=0),\n",
        "                                     np.arange(0,A.shape[1],k), axis=1)\n",
        "print(S)"
      ]
    },
    {
      "cell_type": "markdown",
      "metadata": {
        "id": "UjXDkm5VBywV"
      },
      "source": [
        "#### 88. How to implement the Game of Life using numpy arrays? (★★★)"
      ]
    },
    {
      "cell_type": "code",
      "execution_count": 87,
      "metadata": {
        "id": "qsP16fV2BywV",
        "colab": {
          "base_uri": "https://localhost:8080/"
        },
        "outputId": "981f91ba-77f0-4e23-f40d-231e2b3adb25"
      },
      "outputs": [
        {
          "output_type": "stream",
          "name": "stdout",
          "text": [
            "[[0 0 0 0 0 0 0 0 0 0 0 0 0 0 0 0 0 0 0 0 0 0 0 0 0 0 0 0 0 0 0 0 0 0 0 0\n",
            "  0 0 0 0 0 0 0 0 0 0 0 0 0 0]\n",
            " [0 0 0 0 0 0 0 0 0 0 0 0 0 0 0 0 0 0 0 0 0 0 0 0 0 0 0 0 0 0 0 0 0 0 0 0\n",
            "  0 0 0 0 0 0 0 0 0 0 0 0 0 0]\n",
            " [0 0 0 0 0 0 0 0 0 0 0 0 0 0 0 0 0 0 0 0 0 0 0 0 0 0 0 0 0 0 0 0 0 0 0 0\n",
            "  0 0 0 0 0 0 0 0 0 0 0 0 0 0]\n",
            " [0 0 0 0 0 0 0 0 0 0 0 0 0 0 0 0 0 0 1 1 0 0 0 0 0 0 0 0 0 0 0 0 0 0 0 0\n",
            "  0 0 0 0 0 0 0 0 0 0 0 0 0 0]\n",
            " [0 0 0 0 0 0 0 0 0 0 0 0 0 0 0 0 0 0 1 1 0 0 0 0 0 0 0 0 0 0 0 0 0 0 0 0\n",
            "  0 0 0 0 0 0 0 0 0 0 0 0 0 0]\n",
            " [0 0 0 0 0 0 0 0 0 0 0 0 0 0 0 0 0 0 0 0 0 0 0 0 0 0 0 0 0 0 0 0 0 0 0 0\n",
            "  0 1 0 0 0 0 0 0 0 0 0 0 0 0]\n",
            " [0 0 0 0 0 0 0 0 0 0 0 0 0 0 1 0 0 0 0 0 0 0 0 0 0 0 0 0 0 0 0 0 0 0 1 0\n",
            "  0 0 1 0 0 0 0 0 1 1 0 0 0 0]\n",
            " [0 0 0 0 0 0 0 0 0 0 1 1 1 0 1 0 0 0 0 0 0 0 0 0 0 0 0 0 0 0 0 0 0 1 0 0\n",
            "  0 1 0 0 0 0 0 1 0 0 1 0 0 0]\n",
            " [0 0 0 0 0 0 0 0 0 1 0 0 0 0 1 0 0 0 0 0 0 0 0 0 0 0 0 0 0 0 0 1 1 0 0 0\n",
            "  0 0 0 0 0 0 0 0 1 1 0 0 0 0]\n",
            " [0 0 0 0 0 0 0 0 0 1 0 0 0 1 0 0 0 0 0 0 0 0 0 0 0 0 0 0 0 0 1 0 0 0 0 0\n",
            "  0 0 0 0 0 0 0 0 0 0 0 0 0 0]\n",
            " [0 0 0 0 1 0 0 0 0 1 0 0 0 1 0 0 0 0 0 0 0 0 0 0 0 0 0 0 0 0 1 0 1 0 0 0\n",
            "  0 0 0 0 0 0 0 0 0 0 0 0 0 0]\n",
            " [0 0 0 1 0 1 0 0 0 0 1 0 0 0 1 1 1 0 1 0 0 0 0 0 0 0 0 0 0 0 0 1 0 1 1 1\n",
            "  0 0 0 0 0 0 0 0 0 0 0 0 0 0]\n",
            " [0 0 0 1 1 0 0 0 0 0 0 0 1 1 0 0 1 1 1 0 0 0 0 0 0 0 0 0 0 0 0 0 0 0 1 0\n",
            "  1 0 0 0 0 0 0 0 0 0 0 0 0 0]\n",
            " [0 0 0 0 0 0 0 0 1 0 0 0 0 1 0 0 0 1 1 0 0 0 0 0 0 0 0 0 0 0 0 0 0 0 0 1\n",
            "  1 0 0 0 0 0 0 0 0 0 0 0 0 0]\n",
            " [0 0 0 0 0 0 0 1 1 1 0 0 0 0 0 0 1 1 0 0 1 1 0 1 1 0 0 0 0 0 0 0 0 0 0 0\n",
            "  0 0 1 0 0 0 0 0 0 0 0 0 0 0]\n",
            " [0 0 0 0 0 0 1 1 0 1 1 0 0 0 0 0 1 1 1 1 1 1 0 0 0 1 0 0 0 0 0 0 0 0 0 1\n",
            "  1 0 1 0 0 0 0 0 0 0 0 0 0 0]\n",
            " [0 0 0 0 0 0 0 1 1 1 0 0 0 0 1 1 0 1 0 0 1 1 1 0 0 1 0 0 0 0 0 0 0 0 0 0\n",
            "  0 1 0 0 0 0 0 0 0 0 0 0 0 0]\n",
            " [0 0 0 0 0 0 0 0 1 0 0 0 0 1 1 1 0 0 0 0 0 0 1 1 1 0 0 0 0 0 0 0 0 0 0 0\n",
            "  0 0 0 0 0 0 0 0 0 0 0 0 0 0]\n",
            " [0 0 0 0 0 0 0 0 0 0 0 0 0 0 1 1 0 0 0 0 0 0 1 0 0 0 0 0 0 0 0 0 0 0 0 0\n",
            "  0 0 0 0 0 0 0 0 0 0 0 0 0 0]\n",
            " [0 0 0 0 0 0 0 0 0 0 0 0 1 0 1 0 0 1 1 0 0 0 0 0 0 0 0 0 0 0 0 0 0 0 0 0\n",
            "  0 0 0 0 0 0 0 0 0 0 0 0 0 0]\n",
            " [0 0 0 0 0 0 0 0 0 0 0 0 0 1 1 0 0 1 1 0 0 0 0 0 0 0 0 0 0 0 0 0 0 0 0 0\n",
            "  0 0 0 0 0 0 0 0 0 0 1 0 0 0]\n",
            " [0 0 0 0 0 0 0 0 0 0 0 0 0 0 0 0 0 1 1 0 0 0 0 0 0 0 0 0 0 0 0 0 0 0 0 0\n",
            "  0 0 0 0 0 0 0 0 0 1 0 1 0 0]\n",
            " [0 0 0 0 0 0 0 0 0 0 0 0 0 0 0 0 0 0 0 0 0 0 0 0 0 0 0 0 0 0 0 0 0 0 0 0\n",
            "  0 0 0 0 0 0 0 0 0 0 1 0 1 0]\n",
            " [0 0 0 0 0 0 0 0 0 0 0 0 0 0 0 0 0 0 0 0 0 0 0 0 0 0 0 0 0 0 0 0 0 0 0 0\n",
            "  0 0 0 0 0 0 0 0 0 0 0 1 1 0]\n",
            " [0 0 0 0 0 0 0 0 0 0 0 0 0 0 0 0 0 0 0 0 0 0 0 0 0 0 0 0 0 0 0 0 0 0 0 0\n",
            "  0 0 0 0 0 1 1 1 0 0 0 0 0 0]\n",
            " [0 0 0 0 0 0 0 0 0 0 0 0 0 1 0 1 0 0 0 0 0 0 0 0 0 0 0 0 0 0 0 0 0 0 0 0\n",
            "  0 0 0 0 0 0 0 0 0 0 0 0 0 0]\n",
            " [0 0 0 0 0 0 0 0 0 0 0 0 0 0 0 0 0 0 0 0 0 0 0 0 0 0 0 0 0 0 0 0 0 0 0 0\n",
            "  0 0 0 0 0 0 0 0 0 0 0 0 0 0]\n",
            " [0 0 0 0 0 0 1 0 1 1 0 0 0 1 0 1 0 0 0 0 0 0 0 0 0 0 0 0 0 0 0 0 0 0 0 0\n",
            "  0 0 0 0 0 0 0 0 0 0 0 0 0 0]\n",
            " [0 0 0 1 0 0 1 0 1 1 0 0 0 0 0 0 0 0 0 0 0 0 0 0 0 0 0 0 0 0 0 0 0 0 0 0\n",
            "  0 0 0 0 0 0 0 0 0 0 0 0 0 0]\n",
            " [0 0 0 0 0 0 0 0 0 0 0 0 0 1 0 0 0 0 0 0 0 0 0 0 0 0 0 0 0 0 0 0 0 0 0 0\n",
            "  0 0 0 0 0 0 0 0 0 0 0 0 0 0]\n",
            " [0 0 0 1 1 1 0 0 0 0 0 0 1 0 1 0 0 0 0 0 0 0 0 0 0 0 0 0 0 0 0 0 0 0 0 0\n",
            "  0 0 1 0 0 0 0 0 0 0 0 0 0 0]\n",
            " [0 0 0 0 0 0 0 1 0 1 0 0 1 0 1 0 0 0 0 0 0 0 0 0 0 0 0 0 0 0 0 0 0 0 0 0\n",
            "  0 0 1 0 0 0 0 0 0 0 0 0 0 0]\n",
            " [0 0 0 0 0 0 0 0 1 0 0 0 0 0 0 0 0 0 0 0 0 0 0 0 0 0 0 0 0 0 0 0 0 0 0 0\n",
            "  0 0 1 0 0 0 0 0 0 0 0 0 0 0]\n",
            " [0 0 0 0 0 0 0 0 0 0 0 0 0 0 0 0 0 0 0 0 0 0 0 0 0 0 0 0 0 0 0 0 0 0 0 0\n",
            "  0 0 0 0 0 0 0 0 0 0 0 0 0 0]\n",
            " [0 0 0 0 1 1 1 0 0 0 0 0 0 0 0 0 0 0 0 0 0 0 0 0 0 0 0 0 0 0 0 0 0 0 0 0\n",
            "  0 0 0 0 0 0 0 0 0 0 0 0 0 0]\n",
            " [0 0 0 0 0 0 0 0 0 0 0 0 0 0 0 0 0 0 0 0 0 0 0 0 0 0 0 0 0 0 0 0 0 0 0 0\n",
            "  0 0 0 0 0 0 0 0 0 0 0 0 0 0]\n",
            " [0 0 0 0 0 0 0 0 0 0 0 0 0 0 0 0 0 0 0 0 0 0 0 0 0 0 0 0 0 0 0 0 0 0 0 0\n",
            "  0 0 0 0 0 0 0 0 0 0 0 0 0 0]\n",
            " [0 0 0 0 0 0 0 0 0 0 0 0 0 0 0 0 0 0 0 1 0 1 0 0 0 0 0 0 0 0 0 0 0 0 0 0\n",
            "  0 0 0 0 0 0 0 0 0 0 0 0 0 0]\n",
            " [0 0 0 0 0 0 0 0 0 0 0 0 0 0 0 0 0 0 0 1 0 0 1 0 0 0 0 0 0 0 0 0 0 0 0 0\n",
            "  0 0 0 0 0 0 0 0 0 0 0 0 0 0]\n",
            " [0 0 0 0 0 0 0 0 0 0 0 0 0 0 0 0 0 0 0 1 0 1 0 0 0 0 0 0 0 0 0 0 0 0 0 0\n",
            "  0 0 0 0 0 0 0 0 0 0 0 0 0 0]\n",
            " [0 0 0 0 0 0 0 0 0 0 0 0 0 0 0 0 0 0 0 0 0 0 0 0 0 0 0 0 0 0 0 0 0 0 0 0\n",
            "  0 0 0 0 0 0 0 0 0 0 0 0 0 0]\n",
            " [0 0 0 0 1 1 0 0 0 0 0 0 0 0 0 0 0 0 0 0 0 0 0 0 0 0 0 0 0 0 0 0 0 0 0 0\n",
            "  0 0 0 0 0 0 0 0 0 0 0 0 0 0]\n",
            " [0 0 0 1 0 0 1 0 0 0 1 1 0 0 0 0 0 0 0 0 0 0 0 0 0 0 0 0 0 0 0 0 0 0 0 0\n",
            "  0 0 0 0 0 0 0 0 0 0 0 0 0 0]\n",
            " [0 0 0 1 0 1 0 0 0 1 0 1 0 0 0 0 0 0 0 0 0 0 0 0 0 0 0 0 0 0 0 0 0 0 0 0\n",
            "  0 0 0 0 0 0 0 0 0 0 0 0 0 0]\n",
            " [0 0 0 0 1 0 0 0 1 1 1 0 0 1 1 0 1 1 1 0 0 1 1 0 0 0 0 0 0 0 0 0 0 0 0 0\n",
            "  0 0 0 0 0 0 0 0 0 0 0 0 0 0]\n",
            " [0 0 0 0 0 0 0 0 1 1 1 0 0 1 0 1 0 0 0 1 0 1 1 0 0 0 0 0 0 0 0 0 0 0 0 0\n",
            "  0 0 0 0 0 0 0 0 0 0 0 0 0 0]\n",
            " [0 0 0 0 0 0 0 0 1 1 1 0 0 1 1 1 1 0 1 0 0 0 0 0 0 0 0 0 0 0 0 0 0 0 0 0\n",
            "  0 0 0 0 0 0 0 0 0 0 0 0 0 0]\n",
            " [0 0 0 0 0 0 0 0 0 1 0 1 0 0 0 1 0 1 0 0 0 0 0 0 0 0 0 0 0 0 0 0 0 0 0 0\n",
            "  0 0 0 0 0 0 0 0 0 0 0 0 0 0]\n",
            " [0 0 0 0 0 0 0 0 0 0 1 1 1 1 0 0 0 0 0 0 0 0 0 0 0 0 0 0 0 0 0 0 0 0 0 0\n",
            "  0 0 0 0 0 0 0 0 0 0 0 0 0 0]\n",
            " [0 0 0 0 0 0 0 0 0 0 0 0 0 0 0 0 0 0 0 0 0 0 0 0 0 0 0 0 0 0 0 0 0 0 0 0\n",
            "  0 0 0 0 0 0 0 0 0 0 0 0 0 0]]\n"
          ]
        }
      ],
      "source": [
        "def iterate(Z):\n",
        "   \n",
        "    N = (Z[0:-2,0:-2] + Z[0:-2,1:-1] + Z[0:-2,2:] +\n",
        "         Z[1:-1,0:-2]                + Z[1:-1,2:] +\n",
        "         Z[2:  ,0:-2] + Z[2:  ,1:-1] + Z[2:  ,2:])\n",
        "\n",
        "   \n",
        "    birth = (N==3) & (Z[1:-1,1:-1]==0)\n",
        "    survive = ((N==2) | (N==3)) & (Z[1:-1,1:-1]==1)\n",
        "    Z[...] = 0\n",
        "    Z[1:-1,1:-1][birth | survive] = 1\n",
        "    return Z\n",
        "\n",
        "Z = np.random.randint(0,2,(50,50))\n",
        "for i in range(100): Z = iterate(Z)\n",
        "print(Z)"
      ]
    },
    {
      "cell_type": "markdown",
      "metadata": {
        "id": "96iF5Xu2BywW"
      },
      "source": [
        "#### 89. How to get the n largest values of an array (★★★) \n",
        "(**hint**: np.argsort | np.argpartition)"
      ]
    },
    {
      "cell_type": "code",
      "execution_count": 88,
      "metadata": {
        "id": "LwpesKQtBywW",
        "colab": {
          "base_uri": "https://localhost:8080/"
        },
        "outputId": "d85e4c90-8ccb-4734-ea4c-47900b2bc91b"
      },
      "outputs": [
        {
          "output_type": "stream",
          "name": "stdout",
          "text": [
            "[999 998 996 997 995]\n"
          ]
        }
      ],
      "source": [
        "A = np.arange(1000)\n",
        "np.random.shuffle(A)\n",
        "n=5\n",
        "print(A[np.argpartition(-A,n)][:n])"
      ]
    },
    {
      "cell_type": "markdown",
      "metadata": {
        "id": "m2h2No2aBywW"
      },
      "source": [
        "#### 90. Given an arbitrary number of vectors, build the cartesian product (every combinations of every item) (★★★) \n",
        "(**hint**: np.indices)"
      ]
    },
    {
      "cell_type": "code",
      "execution_count": 89,
      "metadata": {
        "scrolled": true,
        "id": "v08PGRbHBywX"
      },
      "outputs": [],
      "source": [
        "def cartesion(arrays):\n",
        "  arrays = [np.asarray(a) for a in arrays]\n",
        "  shape = (len(x) for x in arrays)\n",
        "\n",
        "  ix = np.indices(shape,dtype=int)\n",
        "  ix = ix.reshape(len(arrays), -1).T\n",
        "\n",
        "  for n, arr in enumerate(arrays):\n",
        "    ix[:,n] = arrays[n][ix[:,n]]\n",
        "    return ix"
      ]
    },
    {
      "cell_type": "markdown",
      "metadata": {
        "id": "D5QTLco4BywX"
      },
      "source": [
        "#### 91. How to create a record array from a regular array? (★★★) \n",
        "(**hint**: np.core.records.fromarrays)"
      ]
    },
    {
      "cell_type": "code",
      "execution_count": 90,
      "metadata": {
        "id": "wcmD1on6BywX",
        "colab": {
          "base_uri": "https://localhost:8080/"
        },
        "outputId": "ea0458cc-85d0-425f-f229-52ae9f6d1861"
      },
      "outputs": [
        {
          "output_type": "stream",
          "name": "stdout",
          "text": [
            "[(b'hello', 2.5, 3) (b'world', 3.6, 2)]\n"
          ]
        }
      ],
      "source": [
        "a=np.array([('hello',2.5,3),\n",
        "            ('world',3.6,2)])\n",
        "R=np.core.records.fromarrays(a.T,\n",
        "                             names='col1,col2,col3',\n",
        "                             formats='S8,f8,i8')\n",
        "print(R)"
      ]
    },
    {
      "cell_type": "markdown",
      "metadata": {
        "id": "BCuJJXuSBywX"
      },
      "source": [
        "#### 92. Consider a large vector Z, compute Z to the power of 3 using 3 different methods (★★★) \n",
        "(**hint**: np.power, \\*, np.einsum)"
      ]
    },
    {
      "cell_type": "code",
      "execution_count": 91,
      "metadata": {
        "id": "rgNvb1SpBywY",
        "colab": {
          "base_uri": "https://localhost:8080/"
        },
        "outputId": "645b11a3-c1fa-4136-b8a2-4ac203785568"
      },
      "outputs": [
        {
          "output_type": "stream",
          "name": "stdout",
          "text": [
            "3.99 s ± 463 ms per loop (mean ± std. dev. of 7 runs, 1 loop each)\n",
            "143 ms ± 767 µs per loop (mean ± std. dev. of 7 runs, 10 loops each)\n",
            "125 ms ± 631 µs per loop (mean ± std. dev. of 7 runs, 10 loops each)\n"
          ]
        }
      ],
      "source": [
        "x=np.random.rand(int(5e7))\n",
        "\n",
        "%timeit np.power(x,3)\n",
        "%timeit x*x*x\n",
        "%timeit np.einsum('i,i,i->i',x,x,x)"
      ]
    },
    {
      "cell_type": "markdown",
      "metadata": {
        "id": "qmEAVprRBywY"
      },
      "source": [
        "#### 93. Consider two arrays A and B of shape (8,3) and (2,2). How to find rows of A that contain elements of each row of B regardless of the order of the elements in B? (★★★) \n",
        "(**hint**: np.where)"
      ]
    },
    {
      "cell_type": "code",
      "execution_count": 92,
      "metadata": {
        "id": "QpflZX2hBywY",
        "colab": {
          "base_uri": "https://localhost:8080/"
        },
        "outputId": "cfbf362d-b6a4-4abd-c7a5-dbedb9012a08"
      },
      "outputs": [
        {
          "output_type": "stream",
          "name": "stdout",
          "text": [
            "[2 3 4]\n"
          ]
        }
      ],
      "source": [
        "A=np.random.randint(0,5,(8,3))\n",
        "B=np.random.randint(0,5,(2,2))\n",
        "\n",
        "C=(A[...,np.newaxis,np.newaxis] ==B)\n",
        "rows = np.where (C.any((3,1)).all(1))[0]\n",
        "print(rows)"
      ]
    },
    {
      "cell_type": "markdown",
      "metadata": {
        "id": "BQIog6N1BywY"
      },
      "source": [
        "#### 94. Considering a 10x3 matrix, extract rows with unequal values (e.g. \\[2,2,3\\]) (★★★)"
      ]
    },
    {
      "cell_type": "code",
      "execution_count": 93,
      "metadata": {
        "id": "nmrBaoHyBywZ",
        "colab": {
          "base_uri": "https://localhost:8080/"
        },
        "outputId": "243269db-5278-4424-8b02-6b3bae5af751"
      },
      "outputs": [
        {
          "output_type": "stream",
          "name": "stdout",
          "text": [
            "[[3 3 2]\n",
            " [1 2 1]\n",
            " [2 0 1]\n",
            " [3 1 1]\n",
            " [2 4 0]\n",
            " [1 4 3]\n",
            " [2 0 4]\n",
            " [1 2 1]\n",
            " [1 3 1]\n",
            " [3 4 3]]\n"
          ]
        }
      ],
      "source": [
        "A=np.random.randint(0,5,(10,3))\n",
        "print(A)\n"
      ]
    },
    {
      "cell_type": "markdown",
      "metadata": {
        "id": "nPuw9SxLBywZ"
      },
      "source": [
        "#### 95. Convert a vector of ints into a matrix binary representation (★★★) \n",
        "(**hint**: np.unpackbits)"
      ]
    },
    {
      "cell_type": "code",
      "execution_count": 94,
      "metadata": {
        "id": "4th2SBX2BywZ",
        "colab": {
          "base_uri": "https://localhost:8080/"
        },
        "outputId": "3adeda59-c0c7-47a6-819b-747625ec0600"
      },
      "outputs": [
        {
          "output_type": "stream",
          "name": "stdout",
          "text": [
            "[[0 0 0 0 0 0 0 0]\n",
            " [0 0 0 0 0 0 0 1]\n",
            " [0 0 0 0 0 0 1 0]\n",
            " [0 0 0 0 0 0 1 1]\n",
            " [0 0 0 0 1 1 1 1]\n",
            " [0 0 0 1 0 0 0 0]\n",
            " [0 0 1 0 0 0 0 0]\n",
            " [0 1 0 0 0 0 0 0]\n",
            " [1 0 0 0 0 0 0 0]]\n"
          ]
        }
      ],
      "source": [
        "I = np.array([0,1,2,3,15,16,32,64,128],dtype=np.uint8)\n",
        "print(np.unpackbits(I[:,np.newaxis],axis=1))"
      ]
    },
    {
      "cell_type": "markdown",
      "metadata": {
        "id": "ZTP4BL9HBywZ"
      },
      "source": [
        "#### 96. Given a two dimensional array, how to extract unique rows? (★★★) \n",
        "(**hint**: np.ascontiguousarray)"
      ]
    },
    {
      "cell_type": "code",
      "execution_count": 95,
      "metadata": {
        "id": "aUGMuPoOBywa",
        "colab": {
          "base_uri": "https://localhost:8080/"
        },
        "outputId": "de03d50c-b541-4c32-9dd3-7b244cc3949b"
      },
      "outputs": [
        {
          "output_type": "stream",
          "name": "stdout",
          "text": [
            "[[1 2 1]\n",
            " [1 3 1]\n",
            " [1 4 3]\n",
            " [2 0 1]\n",
            " [2 0 4]\n",
            " [2 4 0]\n",
            " [3 1 1]\n",
            " [3 3 2]\n",
            " [3 4 3]]\n"
          ]
        }
      ],
      "source": [
        "a=np.random.randint(0,2,(6,3))\n",
        "uZ= np.unique(A,axis=0)\n",
        "print(uZ)"
      ]
    },
    {
      "cell_type": "markdown",
      "metadata": {
        "id": "Aa3RzPbtBywa"
      },
      "source": [
        "#### 97. Considering 2 vectors A & B, write the einsum equivalent of inner, outer, sum, and mul function (★★★) \n",
        "(**hint**: np.einsum)"
      ]
    },
    {
      "cell_type": "code",
      "execution_count": 96,
      "metadata": {
        "id": "dohvpychBywa",
        "colab": {
          "base_uri": "https://localhost:8080/"
        },
        "outputId": "0631725a-9bbb-4c51-857c-ad930d36c3eb"
      },
      "outputs": [
        {
          "output_type": "execute_result",
          "data": {
            "text/plain": [
              "array([[0.34706735, 0.19824716, 0.45284716, 0.22355591, 0.48673362,\n",
              "        0.69742511, 0.59080521, 0.32381939],\n",
              "       [0.09182787, 0.05245268, 0.11981533, 0.05914893, 0.12878109,\n",
              "        0.18452632, 0.15631658, 0.08567687],\n",
              "       [0.35028561, 0.20008545, 0.45704628, 0.22562888, 0.49124697,\n",
              "        0.70389214, 0.59628359, 0.32682208],\n",
              "       [0.09201618, 0.05256025, 0.12006104, 0.05927023, 0.12904518,\n",
              "        0.18490473, 0.15663715, 0.08585257],\n",
              "       [0.22907716, 0.13085038, 0.29889571, 0.14755509, 0.32126202,\n",
              "        0.46032611, 0.38995308, 0.21373266],\n",
              "       [0.24495233, 0.13991838, 0.31960933, 0.15778073, 0.34352564,\n",
              "        0.49222695, 0.41697703, 0.22854444],\n",
              "       [0.36568275, 0.20888039, 0.47713619, 0.23554661, 0.5128402 ,\n",
              "        0.73483239, 0.6224938 , 0.34118786],\n",
              "       [0.26878617, 0.15353243, 0.3507073 , 0.17313279, 0.37695066,\n",
              "        0.5401206 , 0.45754886, 0.2507818 ]])"
            ]
          },
          "metadata": {},
          "execution_count": 96
        }
      ],
      "source": [
        "A = np.random.uniform(0,1,8)\n",
        "B = np.random.uniform(0,1,8)\n",
        "\n",
        "np.einsum('i->',A) #sum(A)\n",
        "np.einsum('i,i->i',A,B) #A*B\n",
        "np.einsum('i,i',A,B) #inner(A,B)\n",
        "np.einsum('i,j->ij',A,B) #outer(A,B)"
      ]
    },
    {
      "cell_type": "markdown",
      "metadata": {
        "id": "1Mq3tCB2Bywa"
      },
      "source": [
        "#### 98. Considering a path described by two vectors (X,Y), how to sample it using equidistant samples (★★★)? \n",
        "(**hint**: np.cumsum, np.interp)"
      ]
    },
    {
      "cell_type": "code",
      "execution_count": 97,
      "metadata": {
        "collapsed": true,
        "id": "PGKa2ZFMBywb"
      },
      "outputs": [],
      "source": [
        "phi=np.arange(0,10*np.pi,0.1)\n",
        "a=1\n",
        "x=a*phi*np.cos(phi)\n",
        "y=a*phi*np.sin(phi)\n",
        "\n",
        "dr = (np.diff(x)**2 + np.diff(y)**2)**.5\n",
        "r = np.zeros_like(x)\n",
        "r[1:] = np.cumsum(dr)\n",
        "r_int = np.linspace(0,r.max(),200)\n",
        "x_int = np.interp(r_int,r,x)\n",
        "y_int = np.interp(r_int,r,y)"
      ]
    },
    {
      "cell_type": "markdown",
      "metadata": {
        "id": "lI1LpLRWBywb"
      },
      "source": [
        "#### 99. Given an integer n and a 2D array X, select from X the rows which can be interpreted as draws from a multinomial distribution with n degrees, i.e., the rows which only contain integers and which sum to n. (★★★) \n",
        "(**hint**: np.logical\\_and.reduce, np.mod)"
      ]
    },
    {
      "cell_type": "code",
      "execution_count": 98,
      "metadata": {
        "id": "27DqK9f_Bywb",
        "colab": {
          "base_uri": "https://localhost:8080/"
        },
        "outputId": "515bdc83-c8bb-416a-b5cd-59a5c7b2defa"
      },
      "outputs": [
        {
          "output_type": "stream",
          "name": "stdout",
          "text": [
            "[[2. 0. 1. 1.]]\n"
          ]
        }
      ],
      "source": [
        "x = np.asarray([[1.0,0.0,3.0,8.0],\n",
        "                [2.0,0.0,1.0,1.0],\n",
        "                [1.5,2.5,1.0,0.0]])\n",
        "\n",
        "n=4\n",
        "M = np.logical_and.reduce(np.mod(x,1)==0,axis=-1)\n",
        "M &= (x.sum(axis=-1) ==n)\n",
        "print(x[M])"
      ]
    },
    {
      "cell_type": "markdown",
      "metadata": {
        "id": "P6zNF28kBywb"
      },
      "source": [
        "#### 100. Compute bootstrapped 95% confidence intervals for the mean of a 1D array X (i.e., resample the elements of an array with replacement N times, compute the mean of each sample, and then compute percentiles over the means). (★★★) \n",
        "(**hint**: np.percentile)"
      ]
    },
    {
      "cell_type": "code",
      "execution_count": 99,
      "metadata": {
        "id": "_J4COOVeBywc",
        "colab": {
          "base_uri": "https://localhost:8080/"
        },
        "outputId": "d0e62c9c-d9e8-4fb4-ba65-a83e639be059"
      },
      "outputs": [
        {
          "output_type": "stream",
          "name": "stdout",
          "text": [
            "[-0.26270983  0.08894839]\n"
          ]
        }
      ],
      "source": [
        "x = np.random.randn(100)\n",
        "n = 1000\n",
        "idx = np.random.randint(0,x.size,(n,x.size))\n",
        "means = x[idx].mean(axis=1)\n",
        "confint = np.percentile(means,[2.5,97.5])\n",
        "print(confint)"
      ]
    }
  ],
  "metadata": {
    "kernelspec": {
      "display_name": "Python 3",
      "language": "python",
      "name": "python3"
    },
    "language_info": {
      "codemirror_mode": {
        "name": "ipython",
        "version": 3
      },
      "file_extension": ".py",
      "mimetype": "text/x-python",
      "name": "python",
      "nbconvert_exporter": "python",
      "pygments_lexer": "ipython3",
      "version": "3.8.3"
    },
    "colab": {
      "provenance": [],
      "collapsed_sections": [],
      "include_colab_link": true
    }
  },
  "nbformat": 4,
  "nbformat_minor": 0
}